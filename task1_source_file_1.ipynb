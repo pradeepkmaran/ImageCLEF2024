{
  "cells": [
    {
      "cell_type": "code",
      "execution_count": null,
      "metadata": {
        "id": "SZIZq7u440HB",
        "outputId": "ac7c3606-768d-46fd-c4c2-f13393293227"
      },
      "outputs": [
        {
          "name": "stdout",
          "output_type": "stream",
          "text": [
            "Requirement already satisfied: tensorflow in /home/ssn/anaconda3/envs/tf-gpu/lib/python3.8/site-packages (2.13.1)\n",
            "Requirement already satisfied: absl-py>=1.0.0 in /home/ssn/anaconda3/envs/tf-gpu/lib/python3.8/site-packages (from tensorflow) (1.4.0)\n",
            "Requirement already satisfied: astunparse>=1.6.0 in /home/ssn/anaconda3/envs/tf-gpu/lib/python3.8/site-packages (from tensorflow) (1.6.3)\n",
            "Requirement already satisfied: flatbuffers>=23.1.21 in /home/ssn/anaconda3/envs/tf-gpu/lib/python3.8/site-packages (from tensorflow) (23.5.26)\n",
            "Requirement already satisfied: gast<=0.4.0,>=0.2.1 in /home/ssn/anaconda3/envs/tf-gpu/lib/python3.8/site-packages (from tensorflow) (0.4.0)\n",
            "Requirement already satisfied: google-pasta>=0.1.1 in /home/ssn/anaconda3/envs/tf-gpu/lib/python3.8/site-packages (from tensorflow) (0.2.0)\n",
            "Requirement already satisfied: grpcio<2.0,>=1.24.3 in /home/ssn/anaconda3/envs/tf-gpu/lib/python3.8/site-packages (from tensorflow) (1.56.2)\n",
            "Requirement already satisfied: h5py>=2.9.0 in /home/ssn/anaconda3/envs/tf-gpu/lib/python3.8/site-packages (from tensorflow) (3.9.0)\n",
            "Requirement already satisfied: keras<2.14,>=2.13.1 in /home/ssn/anaconda3/envs/tf-gpu/lib/python3.8/site-packages (from tensorflow) (2.13.1)\n",
            "Requirement already satisfied: libclang>=13.0.0 in /home/ssn/anaconda3/envs/tf-gpu/lib/python3.8/site-packages (from tensorflow) (16.0.6)\n",
            "Requirement already satisfied: numpy<=1.24.3,>=1.22 in /home/ssn/anaconda3/envs/tf-gpu/lib/python3.8/site-packages (from tensorflow) (1.24.3)\n",
            "Requirement already satisfied: opt-einsum>=2.3.2 in /home/ssn/anaconda3/envs/tf-gpu/lib/python3.8/site-packages (from tensorflow) (3.3.0)\n",
            "Requirement already satisfied: packaging in /home/ssn/anaconda3/envs/tf-gpu/lib/python3.8/site-packages (from tensorflow) (23.0)\n",
            "Requirement already satisfied: protobuf!=4.21.0,!=4.21.1,!=4.21.2,!=4.21.3,!=4.21.4,!=4.21.5,<5.0.0dev,>=3.20.3 in /home/ssn/anaconda3/envs/tf-gpu/lib/python3.8/site-packages (from tensorflow) (3.20.3)\n",
            "Requirement already satisfied: setuptools in /home/ssn/anaconda3/envs/tf-gpu/lib/python3.8/site-packages (from tensorflow) (69.5.1)\n",
            "Requirement already satisfied: six>=1.12.0 in /home/ssn/anaconda3/envs/tf-gpu/lib/python3.8/site-packages (from tensorflow) (1.16.0)\n",
            "Requirement already satisfied: tensorboard<2.14,>=2.13 in /home/ssn/anaconda3/envs/tf-gpu/lib/python3.8/site-packages (from tensorflow) (2.13.0)\n",
            "Requirement already satisfied: tensorflow-estimator<2.14,>=2.13.0 in /home/ssn/anaconda3/envs/tf-gpu/lib/python3.8/site-packages (from tensorflow) (2.13.0)\n",
            "Requirement already satisfied: termcolor>=1.1.0 in /home/ssn/anaconda3/envs/tf-gpu/lib/python3.8/site-packages (from tensorflow) (2.3.0)\n",
            "Requirement already satisfied: typing-extensions<4.6.0,>=3.6.6 in /home/ssn/anaconda3/envs/tf-gpu/lib/python3.8/site-packages (from tensorflow) (4.5.0)\n",
            "Requirement already satisfied: wrapt>=1.11.0 in /home/ssn/anaconda3/envs/tf-gpu/lib/python3.8/site-packages (from tensorflow) (1.16.0)\n",
            "Requirement already satisfied: tensorflow-io-gcs-filesystem>=0.23.1 in /home/ssn/anaconda3/envs/tf-gpu/lib/python3.8/site-packages (from tensorflow) (0.33.0)\n",
            "Requirement already satisfied: wheel<1.0,>=0.23.0 in /home/ssn/anaconda3/envs/tf-gpu/lib/python3.8/site-packages (from astunparse>=1.6.0->tensorflow) (0.43.0)\n",
            "Requirement already satisfied: google-auth<3,>=1.6.3 in /home/ssn/anaconda3/envs/tf-gpu/lib/python3.8/site-packages (from tensorboard<2.14,>=2.13->tensorflow) (2.22.0)\n",
            "Requirement already satisfied: google-auth-oauthlib<1.1,>=0.5 in /home/ssn/anaconda3/envs/tf-gpu/lib/python3.8/site-packages (from tensorboard<2.14,>=2.13->tensorflow) (1.0.0)\n",
            "Requirement already satisfied: markdown>=2.6.8 in /home/ssn/anaconda3/envs/tf-gpu/lib/python3.8/site-packages (from tensorboard<2.14,>=2.13->tensorflow) (3.4.4)\n",
            "Requirement already satisfied: requests<3,>=2.21.0 in /home/ssn/anaconda3/envs/tf-gpu/lib/python3.8/site-packages (from tensorboard<2.14,>=2.13->tensorflow) (2.31.0)\n",
            "Requirement already satisfied: tensorboard-data-server<0.8.0,>=0.7.0 in /home/ssn/anaconda3/envs/tf-gpu/lib/python3.8/site-packages (from tensorboard<2.14,>=2.13->tensorflow) (0.7.1)\n",
            "Requirement already satisfied: werkzeug>=1.0.1 in /home/ssn/anaconda3/envs/tf-gpu/lib/python3.8/site-packages (from tensorboard<2.14,>=2.13->tensorflow) (2.3.6)\n",
            "Requirement already satisfied: cachetools<6.0,>=2.0.0 in /home/ssn/anaconda3/envs/tf-gpu/lib/python3.8/site-packages (from google-auth<3,>=1.6.3->tensorboard<2.14,>=2.13->tensorflow) (5.3.1)\n",
            "Requirement already satisfied: pyasn1-modules>=0.2.1 in /home/ssn/anaconda3/envs/tf-gpu/lib/python3.8/site-packages (from google-auth<3,>=1.6.3->tensorboard<2.14,>=2.13->tensorflow) (0.3.0)\n",
            "Requirement already satisfied: rsa<5,>=3.1.4 in /home/ssn/anaconda3/envs/tf-gpu/lib/python3.8/site-packages (from google-auth<3,>=1.6.3->tensorboard<2.14,>=2.13->tensorflow) (4.9)\n",
            "Requirement already satisfied: urllib3<2.0 in /home/ssn/anaconda3/envs/tf-gpu/lib/python3.8/site-packages (from google-auth<3,>=1.6.3->tensorboard<2.14,>=2.13->tensorflow) (1.26.18)\n",
            "Requirement already satisfied: requests-oauthlib>=0.7.0 in /home/ssn/anaconda3/envs/tf-gpu/lib/python3.8/site-packages (from google-auth-oauthlib<1.1,>=0.5->tensorboard<2.14,>=2.13->tensorflow) (1.3.1)\n",
            "Requirement already satisfied: importlib-metadata>=4.4 in /home/ssn/anaconda3/envs/tf-gpu/lib/python3.8/site-packages (from markdown>=2.6.8->tensorboard<2.14,>=2.13->tensorflow) (6.8.0)\n",
            "Requirement already satisfied: charset-normalizer<4,>=2 in /home/ssn/anaconda3/envs/tf-gpu/lib/python3.8/site-packages (from requests<3,>=2.21.0->tensorboard<2.14,>=2.13->tensorflow) (3.2.0)\n",
            "Requirement already satisfied: idna<4,>=2.5 in /home/ssn/anaconda3/envs/tf-gpu/lib/python3.8/site-packages (from requests<3,>=2.21.0->tensorboard<2.14,>=2.13->tensorflow) (3.4)\n",
            "Requirement already satisfied: certifi>=2017.4.17 in /home/ssn/anaconda3/envs/tf-gpu/lib/python3.8/site-packages (from requests<3,>=2.21.0->tensorboard<2.14,>=2.13->tensorflow) (2023.7.22)\n",
            "Requirement already satisfied: MarkupSafe>=2.1.1 in /home/ssn/anaconda3/envs/tf-gpu/lib/python3.8/site-packages (from werkzeug>=1.0.1->tensorboard<2.14,>=2.13->tensorflow) (2.1.1)\n",
            "Requirement already satisfied: zipp>=0.5 in /home/ssn/anaconda3/envs/tf-gpu/lib/python3.8/site-packages (from importlib-metadata>=4.4->markdown>=2.6.8->tensorboard<2.14,>=2.13->tensorflow) (3.11.0)\n",
            "Requirement already satisfied: pyasn1<0.6.0,>=0.4.6 in /home/ssn/anaconda3/envs/tf-gpu/lib/python3.8/site-packages (from pyasn1-modules>=0.2.1->google-auth<3,>=1.6.3->tensorboard<2.14,>=2.13->tensorflow) (0.5.0)\n",
            "Requirement already satisfied: oauthlib>=3.0.0 in /home/ssn/anaconda3/envs/tf-gpu/lib/python3.8/site-packages (from requests-oauthlib>=0.7.0->google-auth-oauthlib<1.1,>=0.5->tensorboard<2.14,>=2.13->tensorflow) (3.2.2)\n",
            "\u001b[33mDEPRECATION: pytorch-lightning 1.5.10 has a non-standard dependency specifier torch>=1.7.*. pip 24.1 will enforce this behaviour change. A possible replacement is to upgrade to a newer version of pytorch-lightning or contact the author to suggest that they release a version with a conforming dependency specifiers. Discussion can be found at https://github.com/pypa/pip/issues/12063\u001b[0m\u001b[33m\n",
            "\u001b[0mNote: you may need to restart the kernel to use updated packages.\n"
          ]
        },
        {
          "name": "stderr",
          "output_type": "stream",
          "text": [
            "2024-05-11 09:27:53.328101: I tensorflow/core/platform/cpu_feature_guard.cc:182] This TensorFlow binary is optimized to use available CPU instructions in performance-critical operations.\n",
            "To enable the following instructions: AVX2 AVX512F FMA, in other operations, rebuild TensorFlow with the appropriate compiler flags.\n",
            "2024-05-11 09:27:54.678627: W tensorflow/compiler/tf2tensorrt/utils/py_utils.cc:38] TF-TRT Warning: Could not find TensorRT\n"
          ]
        },
        {
          "name": "stdout",
          "output_type": "stream",
          "text": [
            "Found 1 GPUs.\n"
          ]
        }
      ],
      "source": [
        "%pip install tensorflow\n",
        "import tensorflow as tf\n",
        "\n",
        "gpus = tf.config.list_physical_devices('GPU')\n",
        "\n",
        "if gpus:\n",
        "  print('Found {} GPUs.'.format(len(gpus)))\n",
        "else:\n",
        "  print('No GPUs found.')"
      ]
    },
    {
      "cell_type": "code",
      "execution_count": null,
      "metadata": {
        "colab": {
          "base_uri": "https://localhost:8080/",
          "height": 986
        },
        "id": "b-yzndbPSjKi",
        "outputId": "434c0f02-fe96-4975-954f-4c256c2aa325"
      },
      "outputs": [
        {
          "output_type": "stream",
          "name": "stdout",
          "text": [
            "Requirement already satisfied: pandas in /usr/local/lib/python3.10/dist-packages (2.0.3)\n",
            "Requirement already satisfied: python-dateutil>=2.8.2 in /usr/local/lib/python3.10/dist-packages (from pandas) (2.8.2)\n",
            "Requirement already satisfied: pytz>=2020.1 in /usr/local/lib/python3.10/dist-packages (from pandas) (2023.4)\n",
            "Requirement already satisfied: tzdata>=2022.1 in /usr/local/lib/python3.10/dist-packages (from pandas) (2024.1)\n",
            "Requirement already satisfied: numpy>=1.21.0 in /usr/local/lib/python3.10/dist-packages (from pandas) (1.25.2)\n",
            "Requirement already satisfied: six>=1.5 in /usr/local/lib/python3.10/dist-packages (from python-dateutil>=2.8.2->pandas) (1.16.0)\n",
            "\u001b[31mERROR: Operation cancelled by user\u001b[0m\u001b[31m\n",
            "\u001b[0mRequirement already satisfied: numpy in /usr/local/lib/python3.10/dist-packages (1.25.2)\n",
            "Requirement already satisfied: matplotlib in /usr/local/lib/python3.10/dist-packages (3.7.1)\n",
            "Requirement already satisfied: contourpy>=1.0.1 in /usr/local/lib/python3.10/dist-packages (from matplotlib) (1.2.1)\n",
            "Requirement already satisfied: cycler>=0.10 in /usr/local/lib/python3.10/dist-packages (from matplotlib) (0.12.1)\n",
            "Requirement already satisfied: fonttools>=4.22.0 in /usr/local/lib/python3.10/dist-packages (from matplotlib) (4.51.0)\n",
            "Requirement already satisfied: kiwisolver>=1.0.1 in /usr/local/lib/python3.10/dist-packages (from matplotlib) (1.4.5)\n",
            "Requirement already satisfied: numpy>=1.20 in /usr/local/lib/python3.10/dist-packages (from matplotlib) (1.25.2)\n",
            "Requirement already satisfied: packaging>=20.0 in /usr/local/lib/python3.10/dist-packages (from matplotlib) (24.0)\n",
            "Requirement already satisfied: pillow>=6.2.0 in /usr/local/lib/python3.10/dist-packages (from matplotlib) (9.4.0)\n",
            "Requirement already satisfied: pyparsing>=2.3.1 in /usr/local/lib/python3.10/dist-packages (from matplotlib) (3.1.2)\n",
            "Requirement already satisfied: python-dateutil>=2.7 in /usr/local/lib/python3.10/dist-packages (from matplotlib) (2.8.2)\n",
            "Requirement already satisfied: six>=1.5 in /usr/local/lib/python3.10/dist-packages (from python-dateutil>=2.7->matplotlib) (1.16.0)\n",
            "Requirement already satisfied: scikit-learn in /usr/local/lib/python3.10/dist-packages (1.2.2)\n",
            "Requirement already satisfied: numpy>=1.17.3 in /usr/local/lib/python3.10/dist-packages (from scikit-learn) (1.25.2)\n",
            "Requirement already satisfied: scipy>=1.3.2 in /usr/local/lib/python3.10/dist-packages (from scikit-learn) (1.11.4)\n",
            "Requirement already satisfied: joblib>=1.1.1 in /usr/local/lib/python3.10/dist-packages (from scikit-learn) (1.4.2)\n",
            "Requirement already satisfied: threadpoolctl>=2.0.0 in /usr/local/lib/python3.10/dist-packages (from scikit-learn) (3.5.0)\n",
            "Requirement already satisfied: pip in /usr/local/lib/python3.10/dist-packages (23.1.2)\n",
            "Collecting pip\n",
            "  Downloading pip-24.0-py3-none-any.whl (2.1 MB)\n",
            "\u001b[2K     \u001b[90m━━━━━━━━━━━━━━━━━━━━━━━━━━━━━━━━━━━━━━━━\u001b[0m \u001b[32m2.1/2.1 MB\u001b[0m \u001b[31m17.9 MB/s\u001b[0m eta \u001b[36m0:00:00\u001b[0m\n",
            "\u001b[?25hRequirement already satisfied: setuptools in /usr/local/lib/python3.10/dist-packages (67.7.2)\n",
            "Collecting setuptools\n",
            "  Using cached setuptools-69.5.1-py3-none-any.whl (894 kB)\n",
            "Requirement already satisfied: wheel in /usr/local/lib/python3.10/dist-packages (0.43.0)\n",
            "Installing collected packages: setuptools, pip\n",
            "  Attempting uninstall: setuptools\n",
            "    Found existing installation: setuptools 67.7.2\n",
            "    Uninstalling setuptools-67.7.2:\n",
            "      Successfully uninstalled setuptools-67.7.2\n",
            "  Attempting uninstall: pip\n",
            "    Found existing installation: pip 23.1.2\n",
            "    Uninstalling pip-23.1.2:\n",
            "      Successfully uninstalled pip-23.1.2\n",
            "\u001b[31mERROR: pip's dependency resolver does not currently take into account all the packages that are installed. This behaviour is the source of the following dependency conflicts.\n",
            "ipython 7.34.0 requires jedi>=0.16, which is not installed.\u001b[0m\u001b[31m\n",
            "\u001b[0mSuccessfully installed pip-24.0 setuptools-69.5.1\n"
          ]
        },
        {
          "output_type": "display_data",
          "data": {
            "application/vnd.colab-display-data+json": {
              "pip_warning": {
                "packages": [
                  "_distutils_hack",
                  "pkg_resources",
                  "setuptools"
                ]
              },
              "id": "6068aadd373d4fafbc5e62a28903889c"
            }
          },
          "metadata": {}
        },
        {
          "output_type": "stream",
          "name": "stdout",
          "text": [
            "Requirement already satisfied: opencv-python in /usr/local/lib/python3.10/dist-packages (4.8.0.76)\n",
            "Requirement already satisfied: numpy>=1.21.2 in /usr/local/lib/python3.10/dist-packages (from opencv-python) (1.25.2)\n",
            "\u001b[33mWARNING: Running pip as the 'root' user can result in broken permissions and conflicting behaviour with the system package manager. It is recommended to use a virtual environment instead: https://pip.pypa.io/warnings/venv\u001b[0m\u001b[33m\n",
            "\u001b[0m"
          ]
        }
      ],
      "source": [
        "! pip install pandas\n",
        "! pip install numpy\n",
        "! pip install matplotlib\n",
        "! pip install scikit-learn\n",
        "! pip install --upgrade pip setuptools wheel\n",
        "! pip install opencv-python"
      ]
    },
    {
      "cell_type": "code",
      "source": [
        "from google.colab import drive\n",
        "drive.mount('/content/drive')"
      ],
      "metadata": {
        "id": "TeOfaa4AKbfF"
      },
      "execution_count": null,
      "outputs": []
    },
    {
      "cell_type": "code",
      "execution_count": null,
      "metadata": {
        "id": "c6hykrXLS4BO"
      },
      "outputs": [],
      "source": [
        "import pandas as pd\n",
        "import numpy as np\n",
        "import matplotlib.pyplot as plt\n",
        "%matplotlib inline\n",
        "import tensorflow as tf\n",
        "from tensorflow import keras\n",
        "from tensorflow.keras.utils import plot_model\n",
        "from tensorflow.keras.models import Sequential\n",
        "from tensorflow.keras.layers import Input, Conv2D, Dense, Flatten, Dropout\n",
        "from tensorflow.keras.layers import GlobalMaxPooling2D, MaxPooling2D\n",
        "from tensorflow.keras.layers import BatchNormalization\n",
        "from tensorflow.keras.models import Model\n",
        "from keras.callbacks import EarlyStopping\n",
        "from tensorflow.keras import regularizers, optimizers\n",
        "from tensorflow.keras import datasets, layers, models\n",
        "from tensorflow.keras.utils import to_categorical\n",
        "from sklearn.metrics import accuracy_score\n",
        "from PIL import ImageFont\n",
        "import warnings\n",
        "warnings.filterwarnings('ignore')\n",
        "\n",
        "import os\n",
        "import matplotlib.pyplot as plt\n",
        "import numpy as np\n",
        "from tensorflow.keras.preprocessing.image import load_img, img_to_array\n",
        "\n",
        "import pandas as pd\n",
        "from sklearn.model_selection import train_test_split\n",
        "\n",
        "import cv2\n",
        "# from google.colab.patches import cv2_imshow\n",
        "\n",
        "import tensorflow as tf\n",
        "\n",
        "from tensorflow.keras.layers import Conv2D, MaxPool2D"
      ]
    },
    {
      "cell_type": "code",
      "execution_count": null,
      "metadata": {
        "id": "vGM72aVKTLKY",
        "colab": {
          "base_uri": "https://localhost:8080/",
          "height": 164
        },
        "outputId": "446b3bdc-e9c8-49b3-b401-336572d12e46"
      },
      "outputs": [
        {
          "output_type": "error",
          "ename": "FileNotFoundError",
          "evalue": "[Errno 2] No such file or directory: '/media/ssn/d/IMAGE_CLEF_MED/train_images/train2'",
          "traceback": [
            "\u001b[0;31m---------------------------------------------------------------------------\u001b[0m",
            "\u001b[0;31mFileNotFoundError\u001b[0m                         Traceback (most recent call last)",
            "\u001b[0;32m<ipython-input-3-82b947927beb>\u001b[0m in \u001b[0;36m<cell line: 2>\u001b[0;34m()\u001b[0m\n\u001b[1;32m      1\u001b[0m \u001b[0mimgs_title\u001b[0m \u001b[0;34m=\u001b[0m \u001b[0;34m[\u001b[0m\u001b[0;34m]\u001b[0m\u001b[0;34m\u001b[0m\u001b[0;34m\u001b[0m\u001b[0m\n\u001b[0;32m----> 2\u001b[0;31m \u001b[0mimgs_title\u001b[0m\u001b[0;34m.\u001b[0m\u001b[0mextend\u001b[0m\u001b[0;34m(\u001b[0m\u001b[0mlist\u001b[0m\u001b[0;34m(\u001b[0m\u001b[0mos\u001b[0m\u001b[0;34m.\u001b[0m\u001b[0mlistdir\u001b[0m\u001b[0;34m(\u001b[0m\u001b[0;34m'/media/ssn/d/IMAGE_CLEF_MED/train_images/train2'\u001b[0m\u001b[0;34m)\u001b[0m\u001b[0;34m)\u001b[0m\u001b[0;34m)\u001b[0m\u001b[0;34m\u001b[0m\u001b[0;34m\u001b[0m\u001b[0m\n\u001b[0m",
            "\u001b[0;31mFileNotFoundError\u001b[0m: [Errno 2] No such file or directory: '/media/ssn/d/IMAGE_CLEF_MED/train_images/train2'"
          ]
        }
      ],
      "source": [
        "imgs_title = []\n",
        "imgs_title.extend(list(os.listdir('/media/ssn/d/IMAGE_CLEF_MED/train_images/train2')))"
      ]
    },
    {
      "cell_type": "code",
      "execution_count": null,
      "metadata": {
        "id": "Z1AmYx7F40HI"
      },
      "outputs": [],
      "source": [
        "imgs_title[:10]"
      ]
    },
    {
      "cell_type": "code",
      "execution_count": null,
      "metadata": {
        "id": "vh8SKc5WULH-"
      },
      "outputs": [],
      "source": [
        "#df -----> image id and cui id\n",
        "concepts_df = pd.read_csv('/media/ssn/d/IMAGE_CLEF_MED/train_concepts_manual.csv',usecols=[0,1])\n",
        "print(concepts_df.head(5))\n",
        "print(concepts_df.shape)\n",
        "imgname_CUI_mappings={}\n",
        "for index,row in concepts_df.iterrows():\n",
        "  imgname_CUI_mappings[row['ID']+'.jpg']=str(row['CUIs']).split(';')\n",
        "\n"
      ]
    },
    {
      "cell_type": "code",
      "execution_count": null,
      "metadata": {
        "colab": {
          "base_uri": "https://localhost:8080/"
        },
        "id": "BWOLbvuJUZ5k",
        "outputId": "74a8d5fe-b7d8-4fc2-93c2-1262291a2384"
      },
      "outputs": [
        {
          "name": "stdout",
          "output_type": "stream",
          "text": [
            "        CUI                   Canonical name\n",
            "0  C0016522            Foramen Ovale, Patent\n",
            "1  C0457846  Cervical segment of spinal cord\n",
            "2  C0578537               Cavitation of lung\n",
            "3  C0179751                Epidural catheter\n",
            "4  C3489393                    Hiatal Hernia\n",
            "(1934, 2)\n",
            "{'C0016522': 'Foramen Ovale, Patent', 'C0457846': 'Cervical segment of spinal cord', 'C0578537': 'Cavitation of lung', 'C0179751': 'Epidural catheter', 'C3489393': 'Hiatal Hernia', 'C0730166': 'Bone structure of fifth metacarpal', 'C1261077': 'Structure of left lower lobe of lung', 'C0152443': 'Urethral diverticulum', 'C0227301': 'Descending part of duodenum', 'C0031354': 'Pharyngeal structure', 'C4039172': 'Posterior point of nasal spine', 'C0227387': 'Left colic flexure', 'C0227385': 'Hepatic flexure of colon', 'C0228126': 'Leptomeninges', 'C0230436': 'Popliteal fossa structure', 'C0037922': 'Spinal Canal', 'C1260954': 'Morphologically altered structure', 'C0450184': 'Jejunal loop', 'C0729936': 'Cardiac chamber structure', 'C0032718': 'Portal vein structure', 'C0149543': 'Base of skull structure', 'C0027540': 'Necrosis', 'C0582254': 'Entire intrahepatic part of main portal vein', 'C0227375': 'Ascending colon', 'C0006441': 'Synovial bursa', 'C0041967': 'Urethra', 'C0729538': 'Saphenous vein graft', 'C0007144': 'Cardia of stomach', 'C0341539': 'Parastomal hernia', 'C0085221': 'Structure of psoas muscle', 'C0007473': 'Structure of cavernous sinus', 'C0227997': 'Structure of right testis', 'C0015426': 'Eyelid structure', 'C0013303': 'Duodenum', 'C0162859': 'Common carotid artery', 'C0333161': 'Pseudocyst', 'C1261084': 'Common iliac artery structure', 'C0225708': 'Structure of base of right lung', 'C2973725': 'Pulmonary arterial hypertension', 'C0224378': 'Structure of transversus abdominis muscle', 'C0007966': 'Cheek structure', 'C1321756': 'Achalasia', 'C0028784': 'Occipital bone structure', 'C0007531': 'Cecum', 'C0227457': 'Structure of left parotid gland', 'C0042232': 'Vagina', 'C0264972': 'Aneurysm of hepatic artery', 'C0341318': 'Enterocutaneous Fistula', 'C0003855': 'Arteriovenous fistula', 'C0262431': 'Compression fracture of vertebral column', 'C0040761': 'Transposition of Great Vessels', 'C0226707': 'Structure of middle hepatic vein', 'C0184149': 'Nephrostomy tube', 'C1261316': 'Right coronary artery structure', 'C0013687': 'effusion', 'C0010384': 'Prostheses, Dental, Fixed, Crown, Total, Temporary', 'C0442872': 'Multiple cysts', 'C0225599': 'Tracheal bronchus', 'C0001863': 'Air bubble', 'C0228515': 'Cerebellar peduncle', 'C0004455': 'Structure of axillary artery', 'C0230140': 'Structure of right thoracic cavity', 'C0026764': 'Multiple Myeloma', 'C0042591': 'Vessel Positions', 'C1275667': 'Common femoral vein', 'C0227011': 'Neck of tooth', 'C5231045': 'Structure of prostatic artery', 'C1305393': 'Entire posterior fossa of cranial cavity', 'C0007276': 'Internal carotid artery structure', 'C0011906': 'Differential Diagnosis', 'C0224234': 'Structure of deltoid muscle', 'C0206635': 'Myelolipoma', 'C0227472': 'Structure of submaxillary duct', 'C0225261': 'Iliac fascia structure', 'C1288329': 'Structure of lower uterine segment', 'C0003090': 'Ankylosis', 'C0038001': 'Structure of splenic vein', 'C0546483': 'Lung cyst', 'C0013075': 'Structure of rectouterine pouch', 'C0020164': 'Bone structure of humerus', 'C0587240': 'Erosion of bone', 'C0227230': 'Body of stomach', 'C0224445': 'Structure of vastus medialis muscle', 'C0152254': 'Fatty degeneration', 'C0223741': 'Trapezoid bone structure', 'C0224419': 'Structure of psoas major muscle', 'C0227028': 'Maxillary teeth', 'C0227560': 'Structure of left hepatic duct', 'C0025202': 'melanoma', 'C1456806': 'Entire pulmonary vein', 'C0222647': 'Structure of long bone', 'C0226087': 'Left common carotid artery structure', 'C0581269': 'Thoracic spine structure', 'C0223947': 'Navicular Bone of Foot', 'C0223078': 'Transverse Processes', 'C0020663': 'Hypothalamic structure', 'C0227716': 'Neck of urinary bladder', 'C0333186': 'Restenosis', 'C0332448': 'Infiltration', 'C0240708': 'Calcification of pericardium', 'C1541124': 'Pyloric obstruction', 'C0446414': 'C4 level', 'C0332265': 'Demonstrable', 'C0225706': 'Right lung', 'C0030421': 'Paraganglioma', 'C0011373': 'Implantable dental prosthesis, device', 'C0439688': 'Atelectatic', 'C0034015': 'Symphysis pubis structure', 'C0021102': 'Implants', 'C0014871': 'Esophagogastric Junction', 'C0226261': 'Structure of right subclavian artery', 'C1265788': 'Daughter cyst', 'C0225811': 'Structure of apex of heart', 'C0038359': 'Stomach Volvulus', 'C1261078': 'Structure of right cusp of aortic valve', 'C0035065': 'Structure of renal artery', 'C0032268': 'Pneumocephalus', 'C0224145': 'Structure of lateral pterygoid muscle', 'C0230011': 'Structure of infratemporal fossa', 'C0027342': 'Nail plate', 'C0029423': 'Cartilaginous exostosis', 'C0018787': 'Heart', 'C0030305': 'Pancreatitis', 'C0037009': 'Joint structure of shoulder region', 'C0226802': 'Structure of cephalic vein', 'C0475319': 'Pelvic hematoma', 'C0226761': 'Structure of external iliac vein', 'C0227900': 'Right fallopian tube', 'C0013770': 'Elbow joint structure', 'C0026845': 'Muscle Tissue', 'C4281586': 'Entire external oblique', 'C0232804': 'Renal function', 'C0183514': 'Esophageal stent', 'C1956257': 'Pulmonary Stenosis', 'C0222748': 'Structure of ramus of mandible', 'C1510667': 'Forefoot', 'C0039520': 'Tenosynovitis', 'C0700198': 'Pulmonary aspiration', 'C0229089': 'Right eye', 'C0235592': 'Cervical lymphadenopathy', 'C0588200': 'Bone structure of distal tibia', 'C0022821': 'Kyphosis deformity of spine', 'C0151693': 'Adrenal hemorrhage', 'C0036202': 'Sarcoidosis', 'C0205054': 'Hepatic', 'C0022745': 'Knee joint', 'C0206633': 'Angiomyolipoma', 'C0030288': 'Pancreatic duct', 'C0038257': 'Stent, device', 'C0015455': 'Bone structure of face', 'C0225991': 'Structure of great blood vessel (organ)', 'C0027809': 'Neurilemmoma', 'C0032046': 'Placenta Previa', 'C0265903': 'Single coronary artery', 'C1269845': 'Structure of hemidiaphragm', 'C0230447': 'Structure of right ankle', 'C0183518': 'Ureteric stent', 'C0017639': 'Gliosis', 'C0018798': 'Congenital Heart Defects', 'C0588210': 'Bone structure of shaft of humerus', 'C0226812': 'Structure of brachial vein', 'C0266393': 'Congenital duplication of uterus', 'C0729594': 'Axillary lymph node group', 'C0230054': 'Structure of suprasellar region', 'C0345002': 'Quadricuspid Aortic Valve', 'C4511687': 'Pancreatic Intraductal Papillary Mucinous Neoplasm', 'C0446412': 'Level of the second cervical vertebra', 'C0447274': 'Entire maxillary right lateral incisor tooth', 'C0489886': 'Structure of left subclavian vein', 'C0027720': 'Nephrosis', 'C0230388': 'Index finger', 'C0227629': 'Renal pyramid structure', 'C0600139': 'Prostate carcinoma', 'C0078960': 'Anterior Cruciate Ligament', 'C0010051': 'Coronary Aneurysm', 'C0206327': 'Structure of ligamentum flavum', 'C0522476': 'Patient affected', 'C0024121': 'Lung Neoplasms', 'C0040113': 'Thymus Gland', 'C0042961': 'Intestinal Volvulus', 'C1275670': 'Collateral branch of vessel', 'C0582802': 'Digit structure', 'C0226333': 'Structure of left renal artery', 'C0333160': 'Air cyst', 'C0154844': 'Separation of retinal layers', 'C0004456': 'Structure of axillary vein', 'C0225434': 'Inferior nasal concha', 'C0224498': 'Meniscus structure of joint', 'C0230131': 'Posterior chest wall', 'C1512955': 'Intralesional Route of Drug Administration', 'C0227813': 'Body of uterus', 'C0240059': 'Ventricular hemorrhage', 'C0008707': 'Chronic osteomyelitis', 'C0003165': 'Anthracosis', 'C0745442': 'Intravenous Catheters', 'C0226332': 'Structure of right renal artery', 'C0225731': 'Structure of apex of left lung', 'C0032743': 'Positron-Emission Tomography', 'C0042384': 'Vasculitis', 'C0228482': 'Cerebellar vermis structure', 'C0015826': 'Fenestration (morphologic abnormality)', 'C1265877': 'Pathologic mineralization', 'C1235681': 'Distal tendon of biceps brachii', 'C0439682': 'Follicular', 'C3472245': 'Single Photon Emission Computed Tomography Computed Tomography', 'C0226611': 'Structure of superior ophthalmic vein', 'C0040126': 'Thyroid cartilage structure', 'C0231953': 'Lung Volumes', 'C0013990': 'Pathological accumulation of air in tissues', 'C0333099': 'Fusiform Aneurysm', 'C0238199': 'Volvulus of small intestine', 'C0010323': 'Cricoid cartilage structure', 'C0546018': 'Right basal ganglia', 'C0242255': 'Tympanic cavity', 'C0002390': 'Extrinsic allergic alveolitis', 'C0005847': 'Blood Vessel', 'C0224849': 'Structure of extensor tendon', 'C2711599': 'Structure of mandibular incisor tooth', 'C0227817': 'fundus uteri', 'C1562459': 'Neck and chest', 'C0444611': 'Fluid behavior', 'C0222716': 'Structure of wormian bone', 'C0023269': 'leiomyosarcoma', 'C0677897': 'Intrathecal Route of Drug Administration', 'C0223645': 'Structure of anterior inferior iliac spine', 'C0475358': 'Tumor tissue sample', 'C0226864': 'Structure of transverse sinus', 'C0227873': 'Structure of right ovary', 'C0023370': 'Leriche Syndrome', 'C0524466': 'Intracranial', 'C0014009': 'Empyema', 'C0228181': 'Structure of centrum semiovale', 'C0333203': 'Occlusive thrombus', 'C1265763': 'Cystic dilatation', 'C0029464': 'Osteosclerosis', 'C0206366': 'Ossification of Posterior Longitudinal Ligament', 'C0222331': 'Subcutaneous Fat', 'C0225610': 'Right superior lobar bronchus', 'C4551650': 'Esophageal Stricture', 'C0014068': 'Encephalomalacia', 'C0020312': 'Hydrothorax', 'C0014540': 'Epiglottis structure', 'C0225630': 'Left main bronchus structure', 'C0018944': 'Hematoma', 'C0447620': 'Structure of uterine wall', 'C0007134': 'Renal Cell Carcinoma', 'C0004454': 'Axilla', 'C0040399': 'Tomography, Emission-Computed, Single-Photon', 'C0029445': 'Bone necrosis', 'C0555898': 'Sacroiliac', 'C0226088': 'Structure of carotid bifurcation', 'C0336699': 'Bullet, device', 'C0007806': 'Cerebrospinal Fluid', 'C3888056': 'Valve (physical object)', 'C0227224': 'Stomach wall structure', 'C1285115': 'Left hip joint structure', 'C1265885': 'Diffuse calcium deposition', 'C0584882': 'Infraspinatous muscle structure', 'C0224469': 'Peroneus longus muscle structure', 'C0023884': 'Liver', 'C0019077': 'Hemopneumothorax', 'C0225928': 'Structure of leaflet of tricuspid valve', 'C0226069': 'Left pulmonary artery', 'C1142578': 'Bilateral pneumonia', 'C2317432': 'Effusion (substance)', 'C0878544': 'Cardiomyopathies', 'C1268089': 'Entire viscus', 'C0227486': 'Left lobe of liver', 'C0034069': 'Pulmonary Fibrosis', 'C0521169': 'Compression fracture', 'C0225408': 'Structure of dorsum of nose', 'C0006281': 'Congenital bronchogenic cyst', 'C0036760': 'Serous Membrane', 'C0227302': 'Structure of inferior portion of duodenum', 'C0040583': 'Tracheal Stenosis', 'C0011168': 'Deglutition Disorders', 'C0206066': 'Rectus Abdominis', 'C0227902': 'Left fallopian tube', 'C0401119': 'Lumbar hernia', 'C0229792': 'Lymph node of mesentery', 'C0748427': 'Right atrial enlargement', 'C0278403': 'Subcutaneous Tissue', 'C0036700': 'Septum Pellucidum', 'C0227841': 'Cervical canal structure', 'C0267771': 'Retroperitoneal mass', 'C0226323': 'Structure of ileocolic artery', 'C0230128': 'Left thorax structure', 'C0932074': 'Midfoot region of foot', 'C0259779': 'Fibrous Dysplasia', 'C0018188': 'Granuloma', 'C0521443': 'Structure of lateral abdominal wall', 'C1145640': 'Central venous catheter, device', 'C0458624': 'Entire tunica albuginea of testis', 'C0243069': 'Hypoplasia', 'C0751440': 'Pituitary Stalk', 'C0032019': 'Pituitary Neoplasms', 'C0012624': 'Discitis', 'C0037949': 'Vertebral column', 'C0040996': 'Trigeminal nerve structure', 'C1140618': 'Upper Extremity', 'C0740277': 'Bile duct carcinoma', 'C0038291': 'Sternoclavicular joint structure', 'C0180307': 'Defibrillators', 'C0018792': 'Heart Atrium', 'C0230147': 'Superior mediastinum', 'C0446472': 'Surface region of side of chest', 'C0934462': 'Submandibular space structure', 'C0524470': 'Right hip region structure', 'C5235043': 'Structure of left orbital region', 'C0553580': 'Ewings sarcoma', 'C0223651': 'Iliac crest structure', 'C0036205': 'Sarcoidosis, Pulmonary', 'C0039493': 'Temporomandibular Joint', 'C1690005': 'MRI venography', 'C0034606': 'Radionuclide Imaging', 'C0227221': 'Lesser curvature of stomach', 'C0020449': 'Hyperdistention', 'C0034088': 'Pulmonary Valve Insufficiency', 'C0013455': 'middle ear', 'C2945625': 'Feeding tube', 'C0010346': 'Crohn Disease', 'C0019145': 'Hepatic artery', 'C0038356': 'Stomach Neoplasms', 'C0016734': 'Frontal Sinus', 'C0008484': 'Structure of chordae tendineae cordis', 'C0442044': 'Ulnar (qualifier value)', 'C0448190': 'Entire proximal femur', 'C0446432': 'L1 level', 'C0003615': 'Appendicitis', 'C0340654': 'Arterial hemorrhage', 'C0948162': 'Edema of bone marrow', 'C2336763': 'Cephalometric orbitale point', 'C0039597': 'Testis', 'C0078981': 'Arachnoid Cysts', 'C0227546': 'Structure of neck of gallbladder', 'C0446985': 'Entire right sinus of Valsalva', 'C0027740': 'Nerve', 'C0151701': 'Pulmonary hemorrhage', 'C0230028': 'Oral region', 'C0040408': 'Tongue', 'C0242202': 'Cerebrum', 'C0242694': 'Soleus muscle structure', 'C0010668': 'Cystic Adenomatoid Malformation of Lung, Congenital', 'C1522653': 'Endotracheal Route of Drug Administration', 'C0225778': 'Pleural fluid', 'C0149521': 'Pancreatitis, Chronic', 'C0006095': 'Structure of brachiocephalic vein', 'C0024949': 'Structure of maxillary artery', 'C2960678': 'Periodontal Route of Administration', 'C0155747': 'Aneurysm of splenic artery', 'C0014124': 'Endocardium', 'C0031093': 'Periodontal Ligament', 'C0242696': 'Diaphyses', 'C1261317': 'Transplanted kidney', 'C0025526': 'Metacarpal bone', 'C0749225': 'Systolic dysfunction', 'C0019552': 'Hip structure', 'C0230005': 'Occipital region', 'C2346418': 'Porion', 'C0042487': 'Venous Thrombosis', 'C0229289': 'Lacrimal sac', 'C0226723': 'Structure of right ovarian vein', 'C0238463': 'Papillary thyroid carcinoma', 'C0032300': 'Lobar Pneumonia', 'C0034065': 'Pulmonary Embolism', 'C0446567': 'Medial aspect of knee', 'C0225752': 'Structure of lobe of lung', 'C0011429': 'Dentin', 'C0856747': 'Aneurysm, Ascending Aorta', 'C0017086': 'Gangrene', 'C0225358': 'Bladder Detrusor Muscle', 'C0750929': 'Arnold-Chiari Malformation, Type I', 'C0037004': 'Shoulder', 'C4476767': 'Diffuse alveolar hemorrhage', 'C0588205': 'Bone structure of proximal radius', 'C0016068': 'Fibula', 'C1285517': 'Orbital fat structure', 'C0410480': 'Avascular Necrosis of Femur Head', 'C0224301': 'Structure of erector spinae muscle', 'C0227898': 'Both ovaries', 'C0029396': 'Heterotopic Ossification', 'C0004030': 'Aspergillosis', 'C0226362': 'Structure of right common iliac artery', 'C0226694': 'Left superior vena cava', 'C0332853': 'Anastomosis', 'C0227235': 'Structure of gastric lumen', 'C0227223': 'Greater curvature of stomach', 'C0393984': 'Herniation under falx cerebri', 'C0238207': 'Ectopic kidney', 'C0025525': 'Metacarpophalangeal joint structure', 'C0222721': 'Structure of hypoglossal canal', 'C0149721': 'Left Ventricular Hypertrophy', 'C0282082': 'Gluteal Region', 'C0162857': 'Structure of radial artery', 'C0333641': 'Atrophic', 'C0270612': 'Leukoencephalopathy', 'C0442037': 'Popliteal', 'C0227471': 'Structure of left submaxillary gland', 'C1305624': 'Entire descending aorta', 'C0222601': 'Left breast', 'C0923926': 'Structure of right optic nerve', 'C0016059': 'Fibrosis', 'C0006655': 'Bone structure of calcaneum', 'C0412620': 'CT of abdomen', 'C0152279': 'Lateral ventricle structure', 'C0027551': 'Needle device', 'C0344724': 'Ostium secundum atrial septal defect', 'C0023317': 'Lens, Crystalline', 'C0524471': 'Structure of left hip', 'C0205106': 'Transverse - anatomical location', 'C0340030': 'Pleural plaque', 'C0333372': 'Abscess cavity', 'C0229685': 'Structure of hilum of spleen', 'C0595695': 'Periarticular Route of Administration', 'C0334135': 'Sclerotic (qualifier value)', 'C0030580': 'Parotid Gland', 'C0226543': 'Structure of external jugular vein', 'C0235946': 'Cerebral atrophy', 'C0002940': 'Aneurysm', 'C0015560': 'Fallopian Tubes', 'C0016555': 'Forelimb', 'C0086120': 'Dentate nucleus', 'C0229559': 'Structure of right adrenal gland', 'C0028881': 'Structure of odontoid process of axis', 'C0038527': 'Subarachnoid Space', 'C0027830': 'neurofibroma', 'C0012736': 'Dissecting aortic aneurysm', 'C0224512': 'Syndesmosis structure', 'C0447514': 'Part of duodenum', 'C0175662': 'Ventriculoperitoneal catheter', 'C1720771': 'Testicular Hydrocele', 'C0441127': 'Balloon dilatation catheter', 'C0346308': 'Pituitary macroadenoma', 'C0585442': 'Osteosarcoma of bone', 'C0015462': 'Facial nerve structure', 'C0087086': 'Thrombus', 'C0011649': 'Dermoid Cyst', 'C0222605': 'Both breasts', 'C0588207': 'Bone structure of distal radius', 'C0228161': 'Left lateral ventricle structure', 'C0039147': 'Syrinx formation', 'C0006094': 'Structure of brachiocephalic artery', 'C0002708': 'Amygdaloid structure', 'C0226742': 'Structure of superior mesenteric vein', 'C0152013': 'Adenocarcinoma of lung (disorder)', 'C0025066': 'Mediastinum', 'C0230149': 'Middle mediastinum', 'C0018817': 'Atrial Septal Defects', 'C0032009': 'Pituitary Gland, Posterior', 'C0007124': 'Noninfiltrating Intraductal Carcinoma', 'C0221209': 'Pelvic kidney', 'C0448353': 'Paraspinal Muscles', 'C0263628': 'Tumoral calcinosis', 'C0022359': 'Jaw', 'C0042930': 'Vocal cord structure', 'C0235782': 'Gallbladder Carcinoma', 'C0226366': 'Structure of left internal iliac artery', 'C0224521': 'Facet joint structure', 'C0026691': 'Mucocutaneous Lymph Node Syndrome', 'C3887615': 'Lumbar spine structure', 'C0033572': 'Prostate', 'C0225897': 'Left ventricular structure', 'C0225870': 'Ventricular septum', 'C0230361': 'Structure of left forearm', 'C1261082': 'Left coronary artery structure', 'C0226764': 'Structure of internal iliac vein', 'C0459917': 'Intercostal artery', 'C0043265': 'Radiocarpal joint structure', 'C0020629': 'hypopharynx', 'C0227470': 'Structure of right submaxillary gland', 'C0080039': 'Posterior Cruciate Ligament', 'C1562547': 'Chest, abdomen, and pelvis', 'C0179740': 'Peripherally inserted central catheter (physical object)', 'C0226550': 'Internal jugular vein structure', 'C0003501': 'Aortic valve structure', 'C0023759': 'Lip structure', 'C1305387': 'Entire internal carotid artery', 'C0008350': 'Cholelithiasis', 'C0489887': 'Structure of right subclavian vein', 'C0262617': 'Right inguinal hernia', 'C0224174': 'Structure of scalenus medius muscle', 'C0222769': 'Jugular notch of sternum', 'C1261080': 'Structure of posterior cusp of aortic valve', 'C0225453': 'Left maxillary sinus structure', 'C0024485': 'Magnetic Resonance Imaging', 'C0007131': 'Non-Small Cell Lung Carcinoma', 'C0574960': 'Sacroiliitis', 'C0264361': 'Traction bronchiectasis', 'C0223710': 'Structure of olecranon', 'C0017638': 'Glioma', 'C0020564': 'Hypertrophy', 'C3887532': 'Ulceration', 'C0546817': 'Fluid overload', 'C0016663': 'Pathological fracture', 'C0003461': 'Anus', 'C0225844': 'Right atrial structure', 'C1956346': 'Coronary Artery Disease', 'C1999039': 'Anterior-Posterior', 'C0179747': 'Dialysis catheter', 'C0007569': 'Celiac Artery', 'C0009195': 'Cochlear structure', 'C0001209': 'Acromion', 'C0227386': 'Transverse colon', 'C0230353': 'Right elbow region structure', 'C0021900': 'Intrauterine Devices', 'C0017067': 'Ganglia', 'C0734759': 'Upper pole of left kidney', 'C0020417': 'Hyoid bone structure', 'C0225883': 'Right ventricular structure', 'C0311245': 'Congenital cystic kidney disease', 'C1265741': 'Multiple calculi', 'C0015815': 'Structure of neck of femur', 'C0230415': 'Right lower extremity', 'C1282299': 'Femoral epiphysis', 'C0226896': 'Oral cavity', 'C0446498': 'Left iliac fossa', 'C0225608': 'Right main bronchus structure', 'C0412650': 'Computed tomography of cervical spine', 'C0016504': 'Foot', 'C0032639': 'Pontine structure', 'C0009437': 'Common bile duct structure', 'C0277785': 'Functional disorder', 'C0226408': 'Structure of lumbar artery', 'C0225777': 'Parietal pleura', 'C0149630': 'Bicuspid aortic valve', 'C0036609': 'Structure of pituitary fossa', 'C0231099': 'Structure of palatine duct', 'C1277187': 'Left ventricular systolic dysfunction', 'C0333435': 'Cystic degeneration', 'C0028936': 'Structure of olfactory bulb', 'C0948008': 'Ischemic stroke', 'C0230189': 'Hypogastric region', 'C0019123': 'Hemothorax', 'C0202660': 'CT coronal', 'C0023216': 'Lower Extremity', 'C0226027': 'Structure of aortic bifurcation', 'C0439826': 'Olfactory', 'C0006121': 'Brain Stem', 'C0428811': 'Mitral valve annular calcification', 'C0026269': 'Mitral Valve Stenosis', 'C0226109': 'Structure of facial artery', 'C0013274': 'Patent ductus arteriosus', 'C1282952': 'Enthesitis', 'C0011813': 'Dextrocardia', 'C0017189': 'Gastrointestinal tract structure', 'C0018283': 'Epiphysial cartilage', 'C0223088': 'Structure of intervertebral space', 'C0029939': 'Ovary', 'C0225789': 'Mediastinal pleura', 'C0442106': 'Intervertebral', 'C0007776': 'Cerebral cortex', 'C0032225': 'Pleura', 'C0018790': 'Cardiac Arrest', 'C0226245': 'Structure of anterior inferior cerebellar artery', 'C0225899': 'Myocardium of left ventricle', 'C0042459': 'Superior vena cava structure', 'C0004457': 'Axis vertebra', 'C0032649': 'Structure of popliteal artery', 'C0179802': 'Urinary catheter', 'C0011304': 'Demyelination', 'C0225808': 'Right side of heart', 'C0226130': 'Structure of superficial temporal artery', 'C0226363': 'Structure of left common iliac artery', 'C0230365': 'Structure of right wrist', 'C0001511': 'Tissue Adhesions', 'C0226740': 'Structure of paraumbilical vein', 'C0020880': 'Ileocecal Valve', 'C0227667': 'Structure of right renal pelvis', 'C0333222': 'Septic embolus', 'C0011980': 'Respiratory Diaphragm', 'C0227672': 'Renal sinus', 'C0228187': 'Structure of fissure of Sylvius', 'C0230393': 'Middle finger structure', 'C0221376': 'Hydrosalpinx (disease)', 'C0226017': 'Structure of left sinus of Valsalva', 'C0447373': 'Distal tooth root', 'C0446436': 'L4 level', 'C0085816': 'Structure of anterior tibial artery', 'C0039099': 'Synovial Membrane', 'C0001162': 'Acoustic Nerve', 'C0230132': 'Anterior chest wall structure', 'C0238408': 'Hematoma of rectus sheath', 'C0521102': 'Interferes with', 'C0226230': 'Structure of right vertebral artery', 'C1280324': 'Entire hepatic duct', 'C0588211': 'Bone structure of distal humerus', 'C0005423': 'Biliary tract structure', 'C0473124': 'Perinephric hematoma', 'C0224620': 'Carpometacarpal joint structure', 'C0585574': 'Pectoralis major muscle structure', 'C0025037': 'Meckel Diverticulum', 'C1370824': 'Interstitial emphysema', 'C0206692': 'Carcinoma, Lobular', 'C0228576': 'Dorsal funiculus', 'C1185738': 'Column (anatomic)', 'C0027859': 'Acoustic Neuroma', 'C0151936': 'Disorder of tendon', 'C0230416': 'Left lower extremity', 'C0227680': 'Structure of ureteropelvic junction', 'C0446434': 'L3 level', 'C0228186': 'Structure of longitudinal cerebral fissure', 'C0229802': 'Structure of retroperitoneal lymph node', 'C0149978': 'Adenocarcinoma of rectum', 'C0225469': 'Right ethmoid sinus structure', 'C0926861': 'Masticator space', 'C0457109': 'Cardiac border', 'C1184923': 'Lordosis deformity of lumbar spine', 'C0004144': 'Atelectasis', 'C0230127': 'Right thorax structure', 'C0446428': 'T10 level', 'C0225926': 'Structure of anulus fibrosus of tricuspid orifice', 'C0001074': 'Structure of achilles tendon', 'C0227614': 'Left kidney', 'C0015302': 'External exotoses', 'C0229118': 'Structure of both eyes', 'C0227637': 'Structure of perirenal fascia', 'C0225703': 'Structure of apex of lung', 'C0002978': 'angiogram', 'C1510420': 'Cavitation', 'C0226298': 'Structure of left gastric artery', 'C0007769': 'Cerebral aqueduct', 'C0034193': 'Pyloric antrum', 'C0006090': 'Brachial plexus structure', 'C0162485': 'Zygomatic Arch', 'C0446497': 'Right iliac fossa', 'C0265677': 'Congenital hemivertebra', 'C0549186': 'Obstructed', 'C0031153': 'Peritoneum', 'C0443301': 'Sequestration', 'C0229316': 'Concha of ear structure', 'C3887590': 'Stricture of ureter', 'C0013604': 'Edema', 'C0014860': 'Esophageal Perforation', 'C1442171': 'Chest and abdomen', 'C1800706': 'Idiopathic Pulmonary Fibrosis', 'C0740422': 'Fundus', 'C0007279': 'Carotid Body Paraganglioma', 'C0043539': 'Zygomatic bone', 'C0226157': 'Structure of left internal carotid artery', 'C0272407': 'Splenic cyst', 'C0227130': 'Tooth Socket', 'C0508000': 'Structure of right renal vein', 'C0032326': 'Pneumothorax', 'C0006114': 'Cerebral Edema', 'C0446986': 'Entire left sinus of Valsalva', 'C0728985': 'Cervical spine', 'C0036429': 'Sclerosis', 'C0006255': 'Bronchi', 'C0014175': 'Endometriosis', 'C0333548': 'Acute infarct', 'C0192389': 'Dilation of esophagus due to disease', 'C3714759': 'Stifle bone', 'C0447411': 'Alveolar ridge', 'C0543478': 'Residual Tumor', 'C0227391': 'Sigmoid colon', 'C1299991': 'Measurement method', 'C0152295': 'Cerebral white matter structure', 'C4281598': 'Structure of right knee region', 'C0223628': 'Structure of spine of scapula', 'C5203670': 'COVID19 (disease)', 'C0024094': 'Lumbosacral Region', 'C0520743': 'Mediastinal lymphadenopathy', 'C0158570': 'Vascular anomaly', 'C0225809': 'Left side of heart', 'C2711227': 'Steatohepatitis', 'C0225205': 'Aponeurosis structure', 'C0230240': 'Falciform ligament', 'C0266039': 'Taurodontism', 'C0228207': 'RIght parietal lobe structure', 'C0006205': 'Broad Ligament', 'C0039484': 'Temporal bone structure', 'C0230062': 'Structure of medial wall of orbit', 'C0010271': 'Cranial Sinuses', 'C0022656': 'Kidney Cortex Necrosis', 'C0205129': 'Sagittal', 'C0001430': 'Adenoma', 'C1504464': 'Endoleak', 'C0226032': 'Anterior descending branch of left coronary artery', 'C0227794': 'Fornix of vagina', 'C1305372': 'Hilar lymph node', 'C0151705': 'Retroperitoneal Hemorrhage', 'C0042149': 'Uterus', 'C0333980': 'Focal Nodular Hyperplasia', 'C0149507': 'Orbital Cellulitis', 'C0015027': 'Ethmoid bone structure', 'C0230139': 'Thoracic cavity structure', 'C1996865': 'Postero-Anterior', 'C0007275': 'External carotid artery structure', 'C0222681': 'Structure of epicondyle', 'C4281590': 'Structure of middle lobe of right lung', 'C0441478': 'Surgical advancement - action', 'C0521377': 'Rectum and sigmoid colon', 'C0559499': 'Biceps brachii muscle structure', 'C1306460': 'Primary malignant neoplasm of lung', 'C0022378': 'Jejunum', 'C0524414': 'Structure of condyle', 'C0039487': 'Structure of temporalis muscle', 'C0023890': 'Liver Cirrhosis', 'C0555850': 'Indwelling urethral catheter', 'C0007765': 'Cerebellum', 'C0227937': 'Corpus cavernosum structure', 'C0018994': 'Biliary Tract Hemorrhage', 'C0023685': 'Ligaments', 'C0458421': 'Wall of bladder', 'C0446469': 'Surface region of upper chest', 'C0524423': 'Both cardiac ventricles', 'C0027651': 'Neoplasms', 'C0392014': 'Trachea displaced', 'C0018536': 'Hallux Valgus', 'C0225892': 'Structure of outflow tract of right ventricle', 'C0227608': 'Structure of hilum of kidney', 'C0008479': 'Chondrosarcoma', 'C0205321': 'Penetration', 'C0584884': 'Subscapularis muscle structure', 'C0007793': 'Cerebral Peduncle', 'C0035298': 'Retina', 'C0018827': 'Heart Ventricle', 'C0343230': 'ganglion of knee', 'C0224519': 'Synchondrosis structure', 'C0011646': 'Dermis', 'C0332144': 'Final diagnosis (discharge)', 'C0225707': 'Structure of apex of right lung', 'C0015392': 'Eye', 'C0738590': 'Right hypochondriac region structure', 'C0225342': 'Adventitia', 'C0224828': 'Structure of suprapatellar bursa', 'C1305611': 'Entire body of fourth lumbar vertebra', 'C0227844': 'Uterine cavity', 'C0584646': 'Myotendinous Junction', 'C0332554': 'Shadow', 'C0333043': 'Anterior displacement', 'C0230278': 'Lesser Pelvis', 'C0226399': 'Structure of right external iliac artery', 'C0230461': 'Structure of left foot', 'C0003492': 'Aortic coarctation', 'C0224361': 'Structure of trapezius muscle', 'C0020888': 'Iliac Vein', 'C0029078': 'Structure of ophthalmic artery', 'C0228160': 'RIght lateral ventricle structure', 'C0026267': 'Mitral Valve Prolapse Syndrome', 'C1305912': 'Entire abdominal viscera', 'C0006267': 'Bronchiectasis', 'C0029441': 'Osteoid osteoma', 'C0036270': 'Scalp structure', 'C0037944': 'Spinal Stenosis', 'C0041341': 'Tuberous Sclerosis', 'C0588055': 'Mediastinal lymph node group', 'C1827591': 'Structure of half of thorax lateral to midsagittal plane', 'C0025584': 'Metatarsal bone structure', 'C0578736': 'Inguinal lymphadenopathy', 'C0230445': 'Structure of calf of leg', 'C0225730': 'Left lung', 'C0034896': 'Rectum', 'C0015028': 'Ethmoid sinus structure', 'C1305729': 'Entire skeletal muscle of gluteal region', 'C1704247': 'Peritoneal Cavity', 'C0340647': 'Distal aortic dissection', 'C0018916': 'Hemangioma', 'C1269890': 'Entire right atrium', 'C0460048': 'Large bowel obstruction', 'C0587044': 'Left ventricular thrombus', 'C0223724': 'Scaphoid bone', 'C0428851': 'Dilatation of pulmonary artery, unspecified', 'C0007137': 'Squamous cell carcinoma', 'C0447550': 'Intrahepatic duct', 'C0229090': 'Left eye structure', 'C0040960': 'Tricuspid valve structure', 'C0042345': 'Varicosity', 'C0039685': 'Tetralogy of Fallot', 'C0223896': 'Structure of tibial tuberosity', 'C0227980': 'Structure of left seminal vesicle', 'C0333204': 'Non-occlusive thrombus', 'C0227874': 'Structure of left ovary', 'C0158779': 'Cervical rib', 'C0005682': 'Urinary Bladder', 'C0036394': 'Structure of sciatic nerve', 'C0040405': 'X-Ray Computed Tomography', 'C0013609': 'Localized Edema', 'C0020542': 'Pulmonary Hypertension', 'C0225344': 'Tunica submucosa', 'C0444567': 'Ostium', 'C4545644': 'Structure of lymph node of right axilla', 'C0021640': 'Insula of Reil', 'C0230448': 'Structure of left ankle', 'C0004170': 'Cervical Atlas', 'C0226311': 'Structure of gastroduodenal artery', 'C0226865': 'Structure of sigmoid sinus', 'C3696979': 'Enthesophyte', 'C0038532': 'Structure of subclavian vein', 'C0152424': 'Common ventricle', 'C3665332': 'Primary hypertrophic cardiomyopathy', 'C0266387': 'Bicornuate uterus', 'C0582821': 'Lateral rectus muscle structure', 'C0029180': 'Ocular orbit', 'C2334731': 'Pogonion', 'C0037996': 'Structure of splenic artery', 'C0224319': 'Structure of multifidus muscle', 'C0520453': 'Cannula device', 'C0226364': 'Structure of internal iliac artery', 'C0024221': 'Lymphangioma', 'C0265205': 'Robinow Syndrome', 'C0333033': 'Fecalith', 'C2924613': 'Cephalometric point B', 'C0018552': 'Hamartoma', 'C0041618': 'Ultrasonography', 'C0226213': 'Structure of right middle cerebral artery', 'C0225759': 'Lung field', 'C0039103': 'Synovitis', 'C1305766': 'Entire outflow tract of left ventricle', 'C0007770': 'Structure of cerebral artery', 'C0225756': 'Structure of upper lobe of lung', 'C0738591': 'Left hypochondriac region structure', 'C0019155': 'Structure of hepatic vein', 'C2712342': 'Bladder stone (substance)', 'C0460009': 'Back structure, including back of neck', 'C0225787': 'Structure of left pleural cavity', 'C1265786': 'Unilocular cyst', 'C0036471': 'Scrotum', 'C0222662': 'Medullary cavity of bone', 'C0226801': 'Structure of basilic vein', 'C0038590': 'Substantia nigra structure', 'C0446569': 'Knee joint line', 'C0340776': 'Aneurysm of vein', 'C0447556': 'Neck of pancreas', 'C0226400': 'Structure of left external iliac artery', 'C0440746': 'brain tissue surgical material', 'C0041951': 'Ureter', 'C0016052': 'Fibromuscular Dysplasia', 'C0020885': 'ileum', 'C0005974': 'Bone Resorption', 'C1533572': 'Forepaw', 'C0027530': 'Neck', 'C0016733': 'frontal lobe', 'C0020507': 'Hyperplasia', 'C0585008': 'Cholangiectasis', 'C2960749': 'Intratumor route', 'C0262950': 'Skeletal bone', 'C0230064': 'Periorbital region', 'C0206248': 'Pelvic Diaphragm', 'C1368999': 'Late effect of medical intervention', 'C0459701': 'First metatarsal structure', 'C0001516': 'Adhesives', 'C0225758': 'Structure of lower lobe of lung', 'C0447557': 'Main pancreatic duct', 'C0019080': 'Hemorrhage', 'C0226503': 'Structure of venous network', 'C0038525': 'Subarachnoid Hemorrhage', 'C1508753': 'Urinary system', 'C0038925': 'Surgical Flaps', 'C0230371': 'Structure of left hand', 'C0206620': 'Lymphangioma, Cystic', 'C0241790': 'Congenital pulmonary arteriovenous malformation', 'C0227952': 'Foreskin of penis', 'C0577870': 'Aortic valve vegetations', 'C0223863': 'Structure of fabella', 'C1305613': 'Entire body of fifth lumbar vertebra', 'C0034052': 'Pulmonary artery structure', 'C0230259': 'Greater omentum', 'C0230065': 'Structure of retroorbital region', 'C0342649': 'Vascular calcification', 'C0225452': 'Right maxillary sinus structure', 'C4551683': 'Adrenal Gland Pheochromocytoma', 'C0340648': 'dissection of coronary artery', 'C0225470': 'Left ethmoid sinus structure', 'C0019322': 'Umbilical hernia', 'C0009438': 'Common Bile Duct Calculi', 'C0029453': 'Osteopenia', 'C0003507': 'Aortic Valve Stenosis', 'C0149555': 'Third ventricle structure', 'C0226004': 'Arterial system', 'C0221353': 'Horseshoe Kidney', 'C0162869': 'Aneurysm, Ruptured', 'C0027686': 'Pathologic Neovascularization', 'C0443294': 'Ruptured behavior', 'C2349948': 'Lingual - Oral site descriptor', 'C0024959': 'Maxillary Sinusitis', 'C1267406': 'Venous system', 'C0226262': 'Structure of left subclavian artery', 'C0700148': 'Congestion', 'C0230318': 'Right inguinal region', 'C0223687': 'Structure of lesser tuberosity of humerus', 'C0227582': 'Body of pancreas', 'C0270687': 'Pseudomeningocele', 'C0016520': 'Structure of interventricular foramen', 'C0332234': 'Leaking', 'C0226156': 'Structure of right internal carotid artery', 'C1290884': 'Inflammatory disorder', 'C0226214': 'Structure of left middle cerebral artery', 'C0025990': 'Micrognathism', 'C0205097': 'Caudal', 'C4721411': 'Osteolysis', 'C5441965': 'Ascitic Fluid', 'C0029126': 'Optic Chiasms', 'C0003489': 'Aortic arch structure', 'C0008733': 'Chylothorax', 'C1261192': 'Ankle region', 'C0223665': 'Structure of iliopubic eminence', 'C0447375': 'Mesial tooth root', 'C0038019': 'Spondylosis', 'C0229664': 'peripheral blood', 'C0010482': 'Cuspid', 'C0003516': 'Aortopulmonary Septal Defect', 'C0020498': 'Hyperostosis, Diffuse Idiopathic Skeletal', 'C0206667': 'Adrenal Cortical Adenoma', 'C0036098': 'Salivary Glands', 'C1535976': 'Epiploic appendagitis', 'C0223894': 'Structure of intercondylar spine of tibia', 'C0037303': 'Bone structure of cranium', 'C0507850': 'Wall of artery', 'C0000962': 'Bone structure of acetabulum', 'C0149575': 'Structure of superior cerebellar artery', 'C0085693': 'Acute appendicitis NOS (disorder)', 'C0223866': 'Structure of lesser trochanter of femur', 'C0037928': 'Spinal Cord Diseases', 'C0041952': 'Ureterolithiasis', 'C0038352': 'Gastric Content', 'C0028977': 'Omentum', 'C0029405': 'Osteitis Fibrosa Cystica', 'C1290344': 'Nonspecific interstitial pneumonia', 'C0588203': 'Bone structure of distal ulna', 'C0008812': 'Circle of Willis', 'C0265699': 'Congenital hernia of foramen of Morgagni', 'C0149561': 'Structure of anterior cerebral artery', 'C0009368': 'Colon structure (body structure)', 'C0227666': 'Renal pelvis', 'C0151517': 'Complete atrioventricular block', 'C0227498': 'Structure of porta hepatis', 'C0019284': 'Diaphragmatic Hernia', 'C1269026': 'Entire pulmonary artery', 'C0441621': 'Sampling - Surgical action', 'C0014180': 'Endometrium', 'C0032005': 'Pituitary Gland', 'C0007799': 'Cerebral Ventricles', 'C0230374': 'Thenar eminence', 'C0001168': 'Complete obstruction', 'C1261075': 'Structure of right lower lobe of lung', 'C0447612': 'Vaginal wall', 'C0699790': 'Colon Carcinoma', 'C0264558': 'Tension Pneumothorax', 'C1744560': 'Bulbar urethra', 'C0162861': 'Superior mesenteric artery structure', 'C0446438': 'Level of the first sacral vertebra', 'C0226711': 'Structure of left ovarian vein', 'C0575270': 'Scoliosis of thoracic spine', 'C0229789': 'Para-aortic node', 'C0223895': 'Medial malleolus', 'C0224417': 'Structure of iliopsoas muscle', 'C2713497': 'Saccular Aneurysm', 'C1285116': 'Right hip joint structure', 'C0224380': 'Structure of quadratus lumborum muscle', 'C0009319': 'Colitis', 'C0230118': 'Structure of presacral region', 'C0746552': 'Mesenteric lymphadenopathy', 'C0019294': 'Hernia, Inguinal', 'C0027059': 'Myocarditis', 'C0016976': 'Gallbladder', 'C0238045': 'Carotid-Cavernous Sinus Fistula', 'C0024687': 'Mandible', 'C0149781': 'Spontaneous pneumothorax', 'C0223626': 'Structure of coracoid process of scapula', 'C0021853': 'Intestines', 'C0224848': 'Structure of flexor tendon', 'C0267834': 'Liver cyst', 'C0447009': 'Entire leaflet of mitral valve', 'C0226300': 'Structure of common hepatic artery', 'C1185651': 'Gonion', 'C0457354': 'Gonadal vein', 'C0228175': 'Right cerebral hemisphere', 'C0152319': 'Corpus callosum splenium', 'C0446470': 'Surface region of lower chest', 'C0400997': 'Leakage of bile', 'C0043262': 'Wrist', 'C0447273': 'Entire maxillary right central incisor tooth', 'C0229427': 'Pneumatic mastoid cell', 'C0227150': 'Dorsal pharyngeal wall structure', 'C0935625': 'Fat pad', 'C0226682': 'Structure of superior left pulmonary vein', 'C0442887': 'Septal hypertrophy', 'C0178282': 'Hernia of abdominal cavity', 'C0227170': 'Structure of piriform recess', 'C0877248': 'Adverse event', 'C0333055': 'Retroversion', 'C1561643': 'Chronic Kidney Diseases', 'C0333559': 'Infarction, Lacunar', 'C0042133': 'Uterine Fibroids', 'C0588193': 'Bone structure of shaft of femur', 'C0226016': 'Structure of right sinus of Valsalva', 'C0332835': 'Transplanted tissue', 'C0445122': 'Entire posterior sinus of Valsalva', 'C0001339': 'Pancreatitis, Acute', 'C0459414': 'Central cord canal structure', 'C1305775': 'Entire portal vein', 'C0022646': 'Kidney', 'C0227361': 'Structure of colonic haustra', 'C0265893': 'Congenital aneurysm of sinus of Valsalva', 'C0027709': 'Nephrocalcinosis', 'C0229815': 'External iliac lymph node group', 'C0000833': 'Abscess', 'C0227145': 'Peripharyngeal area structure', 'C0152347': 'Pulvinar structure', 'C0227557': 'Structure of right hepatic duct', 'C3887499': 'Renal cyst', 'C0266631': 'Accessory spleen', 'C0021845': 'Intestinal Perforation', 'C0021815': 'Intervertebral disc structure', 'C1261074': 'Structure of right upper lobe of lung', 'C0230010': 'Structure of temporal fossa', 'C0030299': 'Pancreatic Pseudocyst', 'C0230060': 'Structure of inferior wall of orbit', 'C0392464': 'Ventricular aneurysm', 'C0031110': 'Periosteum', 'C0524702': 'Pulmonary Thromboembolisms', 'C0344720': 'Left atrial dilatation', 'C0739480': 'Structure of right common iliac vein', 'C0034086': 'Pulmonary valve structure', 'C0031266': 'Structure of petrous part of temporal bone', 'C0005778': 'Blood coagulation', 'C0230426': 'Structure of left thigh', 'C0011334': 'Dental caries', 'C0595451': 'Intrapleural Route of Drug Administration', 'C0228312': 'Structure of corona radiata of internal capsule', 'C1261046': 'Glenoid structure', 'C0205518': 'Transrectal approach', 'C0223711': 'Structure of coronoid process of ulna', 'C0228218': 'Right occipital lobe structure', 'C0023524': 'Leukoencephalopathy, Progressive Multifocal', 'C0151811': 'Subcutaneous nodule', 'C0036628': 'Seminal Vesicles', 'C0018534': 'Hallux structure', 'C0021852': 'Intestines, Small', 'C0030219': 'Palate, Soft', 'C2733397': 'Cor bovinum (disorder)', 'C0013444': 'External auditory canal structure', 'C0003087': 'Ankle joint structure', 'C0223656': 'Ischial tuberosity structure', 'C0224169': 'Longus colli muscle structure', 'C0750852': 'Physiological sludge', 'C0344709': 'Right atrial dilatation', 'C0581620': 'Thoracic spinal cord structure', 'C0006257': 'Structure of bronchial artery', 'C0026683': 'Mucocele', 'C0006104': 'Brain', 'C0037998': 'Splenic Infarction', 'C0230460': 'Structure of right foot', 'C0226708': 'Structure of left hepatic vein', 'C0332482': 'Abnormal shape', 'C0036624': 'Semilunar Bone', 'C1284911': 'Entire left thorax', 'C0026769': 'Multiple Sclerosis', 'C0025462': 'Midbrain structure', 'C0242691': 'Gastrocnemius muscle structure', 'C0272412': 'Splenic abscess', 'C0017681': 'glottis', 'C0243026': 'Sepsis', 'C0268804': 'Hydroureteronephrosis', 'C1959589': 'Angioma, Cavernous', 'C0226676': 'Structure of inferior right pulmonary vein', 'C0013292': 'Duodenal Obstruction', 'C0458098': 'Midclavicular line', 'C0030518': 'Parathyroid gland', 'C0003956': 'Ascending aorta structure', 'C0036033': 'Sacral Region', 'C0333014': 'Staghorn Calculi', 'C2919452': 'Venous stent', 'C0175754': 'Agenesis of corpus callosum', 'C0015809': 'Femoral vein', 'C0038529': 'Subchondral Cysts', 'C1504506': 'Patella alta', 'C0022655': 'Structure of cortex of kidney', 'C0281361': 'Adenocarcinoma of pancreas', 'C0162858': 'Structure of ulnar artery', 'C0042449': 'Veins', 'C0225317': 'soft tissue', 'C3854330': 'Gastric band (physical object)', 'C0227683': 'Structure of left ureter', 'C0267941': 'Pancreatitis Necrotizing', 'C0230366': 'Structure of left wrist', 'C0002949': 'Arterial Dissection', 'C0230370': 'Structure of right hand', 'C0226092': 'Structure of left external carotid artery', 'C0223155': 'Body of fifth cervical vertebra', 'C0010090': 'Corpus Callosum', 'C0686907': 'Consequence of', 'C0734011': 'Rectum wall structure', 'C0223522': 'Third lumbar vertebra', 'C0376381': 'Cuboid Bone', 'C0442034': 'peritoneal', 'C0506546': 'Esophageal wall structure', 'C0008779': 'Ciliary Body', 'C0042580': 'Vesico-Ureteral Reflux', 'C0333145': 'Hemorrhagic cyst', 'C0243032': 'Magnetic Resonance Angiography', 'C0224429': 'Structure of piriformis muscle', 'C0038536': 'Subcutaneous Emphysema', 'C0748428': 'Thrombus of right atrium', 'C0008340': 'Choledochal Cyst', 'C0027442': 'Nasopharynx', 'C0035359': 'Retroperitoneal Space', 'C0446416': 'C6 level', 'C0348015': 'Posterior segment', 'C1522460': 'Thoracic aorta', 'C0220650': 'Metastatic malignant neoplasm to brain', 'C0226248': 'Structure of left posterior cerebral artery', 'C1739395': 'Takotsubo Cardiomyopathy', 'C0007458': 'Cauda Equina', 'C0442031': 'Pericardial body location', 'C0230137': 'Structure of thoracic inlet', 'C0224153': 'Structure of sternocleidomastoid muscle', 'C1322794': 'Aortic stent', 'C1305603': 'Entire body of twelfth thoracic vertebra', 'C0221224': 'Invagination', 'C3714551': 'Stomach structure', 'C0042036': 'Urine', 'C0225860': 'Left atrial structure', 'C0031099': 'Periodontitis', 'C0339821': 'Concha bullosa', 'C0151241': 'Atrial myxoma', 'C0016732': 'Frontal bone structure', 'C0175325': 'Structure of infundibular stem of neurohypophysis', 'C0031066': 'Anogenital region', 'C0020889': 'Bone structure of ilium', 'C0524468': 'Structure of right shoulder region', 'C0018120': 'Ovarian Follicle', 'C0393983': 'Hernia of cerebellar tonsil into foramen magnum', 'C0037199': 'Sinusitis', 'C0227388': 'Left colon', 'C0206332': 'Structure of patellar ligament', 'C0930339': 'Mandibular notch', 'C0010672': 'Cystic duct structure', 'C0027121': 'Myositis', 'C0225594': 'Structure of carina', 'C0227389': 'Descending colon', 'C1306645': 'Plain x-ray', 'C1258666': 'Myxoid cyst', 'C1947917': 'Occluded', 'C0577799': 'Tricuspid valve vegetations', 'C0226231': 'Structure of left vertebral artery', 'C0035561': 'Bone structure of rib', 'C0582820': 'Medial rectus muscle structure', 'C0225591': 'Structure of tracheal lumen', 'C0227481': 'Right lobe of liver', 'C0231459': 'Internal rotation', 'C0182400': 'Probes', 'C0576464': 'Entire distal phalanx (body structure)', 'C3163918': 'Tumor thrombus', 'C0152392': 'Structure of middle cerebellar peduncle', 'C0226047': 'Posterior interventricular branch of right coronary artery', 'C0227628': 'Renal parenchyma', 'C0224517': 'Dento-alveolar joint', 'C0026976': 'Myelitis, Transverse', 'C0228176': 'Left cerebral hemisphere', 'C0015668': 'Fat necrosis', 'C0226037': 'Structure of circumflex branch of left coronary artery', 'C0205039': 'Bronchial', 'C0006285': 'Bronchopneumonia', 'C0559769': 'Pelvic cavity structure', 'C0333062': 'Hernia sac', 'C0025058': 'Structure of median nerve', 'C0226706': 'Structure of right hepatic vein', 'C0039277': 'Talus', 'C0024110': 'Lung Abscess', 'C0015450': 'Face', 'C1305609': 'Entire body of second lumbar vertebra', 'C0027061': 'Myocardium', 'C0447541': 'Lobe of liver', 'C0446606': 'Subphrenic space', 'C0013769': 'Elbow', 'C3669124': 'Structure of omental adipose tissue (body structure)', 'C0240412': 'Muscle hematoma', 'C0001304': 'Acute abscess', 'C0559987': 'Entire tendon of subscapularis muscle', 'C0224347': 'Pectoralis minor muscle structure', 'C0152341': 'Internal capsule of brain', 'C0475278': 'Large tumor', 'C0226117': 'Structure of occipital artery', 'C0021445': 'Inguinal canal structure', 'C0225220': 'Structure of carotid sheath', 'C0227590': 'Tail of pancreas', 'C0447054': 'Structure of left internal thoracic artery', 'C0020295': 'Hydronephrosis', 'C0023798': 'Lipoma', 'C0031547': 'Phlebolithiasis', 'C0034014': 'Bone structure of pubis', 'C0222660': 'Cancellous Bone', 'C0266298': 'Accessory kidney', 'C0149576': 'Structure of posterior cerebral artery', 'C0222679': 'Structure of articular surface of bone', 'C0223865': 'Structure of greater trochanter of femur', 'C0026649': 'Movement', 'C0222711': 'Internal acoustic meatus of temporal bone', 'C0040067': 'Thumb structure', 'C0026369': 'Structure of wisdom tooth', 'C0584869': 'Supraspinatus muscle structure', 'C0224941': 'Structure of quadriceps tendon', 'C0036410': 'Sclera', 'C0222746': 'Structure of body of mandible', 'C0038530': 'Structure of subclavian artery', 'C0039866': 'Thigh structure', 'C0470187': 'Availability of', 'C0228194': 'Left frontal lobe structure', 'C0740690': 'Multiple abscesses', 'C0039485': 'Temporal Lobe', 'C0009324': 'Ulcerative Colitis', 'C0391889': 'Synostosis', 'C0226042': 'Entire right coronary artery', 'C0332558': 'Calcified nodule', 'C0226455': 'Structure of profunda femoris artery', 'C1527390': 'Neoplasms, Intracranial', 'C0038541': 'Subdural space', 'C0264956': 'Atheroma', 'C0230354': 'Left elbow region structure', 'C0026264': 'Mitral Valve', 'C0264358': 'Cylindrical Bronchiectasis', 'C0227668': 'Structure of left renal pelvis', 'C0267716': 'Incisional hernia', 'C0016519': 'Structure of foramen magnum', 'C0559502': 'Triceps brachii muscle structure', 'C0023903': 'Liver neoplasms', 'C1305188': 'Right colon', 'C0919267': 'ovarian neoplasm', 'C0205387': 'Clumped', 'C0006288': 'Bronchopulmonary Sequestration', 'C0004153': 'Atherosclerosis', 'C0037885': 'Sphenoidal sinus', 'C0039987': 'Bone structure of thoracic vertebra', 'C0223739': 'Structure of triangular bone', 'C0024204': 'lymph nodes', 'C0035615': 'Right aortic arch (disorder)', 'C0206695': 'Carcinoma, Neuroendocrine', 'C0222671': 'Metaphysis', 'C0582819': 'Inferior rectus muscle structure', 'C0448363': 'Entire multifidus muscle', 'C0016169': 'pathologic fistula', 'C0035092': 'Structure of renal vein', 'C0227842': 'Structure of internal os', 'C0004781': 'Basal Ganglia', 'C0149559': 'Structure of posterior communicating artery', 'C0230171': 'Flank (surface region)', 'C0005558': 'Biopsy', 'C0152386': 'Cerebellar tonsil', 'C0032285': 'Pneumonia', 'C0333547': 'Multiple infarcts', 'C0032000': 'Pituitary Adenoma', 'C0032319': 'Pneumopericardium', 'C0021818': 'Intervertebral Disk Displacement', 'C0007177': 'Cardiac Tamponade', 'C0460005': 'Trunk structure', 'C0223085': 'Structure of intervertebral foramen', 'C0222670': 'Apophysis', 'C0442184': 'Subcostal', 'C0006736': 'Calculi', 'C0340161': 'Hematomediastinum', 'C0225560': 'Aryepiglottic fold structure', 'C0458450': 'Prostatic Urethra', 'C0033377': 'Ptosis', 'C0005683': 'Urinary Bladder Calculi (disorder)', 'C0040452': 'Tooth root structure', 'C0008325': 'Cholecystitis', 'C0226669': 'Structure of right pulmonary vein', 'C0230150': 'Posterior mediastinum', 'C0224425': 'Structure of gluteus medius muscle', 'C0175649': 'Prosthesis', 'C0333229': 'Accumulation of fluid', 'C0230151': 'Costophrenic angle', 'C0206207': 'Joint Capsule', 'C0226737': 'Structure of left gastric vein', 'C0015733': 'Feces', 'C0276651': 'Aspergilloma', 'C0024091': 'Bone structure of lumbar vertebra', 'C4281589': 'Entire internal oblique', 'C0020541': 'Portal Hypertension', 'C0238246': 'Hemangioma of liver', 'C1541923': 'Infective endocarditis', 'C0155919': 'Acute pulmonary edema', 'C0521622': 'Bilateral hydronephrosis', 'C0432593': 'Varus angulation', 'C0041327': 'Tuberculosis, Pulmonary', 'C0206365': 'Structure of collateral ligament', 'C1261473': 'Sarcoma', 'C0034518': 'Structure of radial nerve', 'C0086835': 'Structure of posterior tibial artery', 'C0024947': 'Maxilla', 'C0006663': 'Calcinosis', 'C0521367': 'Oropharyngeal', 'C0242073': 'Pulmonary congestion', 'C0030326': 'Panniculitis', 'C0225971': 'Pericardial fat', 'C0230330': 'Left upper extremity', 'C0027051': 'Myocardial Infarction', 'C0225754': 'Bilateral lungs', 'C0007115': 'Malignant neoplasm of thyroid', 'C0003484': 'Abdominal aorta structure', 'C0183512': 'Biliary Stent Devices', 'C0008841': 'Structure of cisterna magna', 'C2733597': 'Right superior vena cava', 'C0876973': 'Infectious Lung Disorder', 'C0243065': 'Aplasia, NOS', 'C0349604': 'Intracranial Meningioma', 'C0014859': 'Esophageal Neoplasms', 'C0227327': 'Distal part of ileum', 'C0155626': 'Acute myocardial infarction', 'C0226086': 'Right common carotid artery structure', 'C0017129': 'gastric fundus', 'C0230346': 'Right upper arm structure', 'C0222600': 'Right breast', 'C0264733': 'Ventricular dilatation (disorder)', 'C0021156': 'Incisor', 'C1276274': 'Structure of soft tissues of neck', 'C0014876': 'Esophagus', 'C0229354': 'Left middle ear structure', 'C0007272': 'Carotid Arteries', 'C0228121': 'Tentorium cerebelli', 'C0028429': 'Nose', 'C0222652': 'Cortex of bone', 'C0027088': 'myometrium', 'C0000726': 'Abdomen', 'C0332459': 'Compressed structure', 'C0224856': 'Tendon sheath', 'C0446516': 'Upper arm', 'C0179790': 'Pulmonary artery flotation catheter', 'C0729619': 'Computed tomography imaging - action', 'C0332965': 'Congenital arteriovenous fistula', 'C0549423': 'Obstructive Hydrocephalus', 'C0005971': 'Bone plates', 'C0040578': 'Trachea', 'C0228465': 'Cerebellar hemisphere structure', 'C0230039': 'Structure of pterygopalatine fossa', 'C0021934': 'Intussusceptum', 'C0024957': 'Maxillary Sinus', 'C0206187': 'Bile Ducts, Extrahepatic', 'C0158266': 'Intervertebral Disc Degeneration', 'C1321546': 'Anaplastic large B-cell lymphoma', 'C0003943': 'Arytenoid Cartilage', 'C0004811': 'Structure of basilar artery', 'C0230347': 'Left upper arm structure', 'C1178870': 'Structure of right buttock', 'C0002895': 'Anemia, Sickle Cell', 'C0431952': 'Congenital acetabular dysplasia', 'C0442800': 'Enlarged', 'C0162864': 'Tunica Intima', 'C0000846': 'Agenesis', 'C0031050': 'Pericardial sac structure', 'C0223696': 'Structure of head of radius', 'C0227665': 'Both kidneys', 'C1261076': 'Structure of left upper lobe of lung', 'C0446413': 'C3 level', 'C0030851': 'penis', 'C0456934': 'Entire right auricular appendage', 'C0026684': 'Mucocele of appendix', 'C0225740': 'Lingula of left lung', 'C0333159': 'Emphysematous', 'C0086510': 'Kirschner Wires', 'C1962945': 'Radiographic imaging procedure', 'C0446435': 'L5 level', 'C0932510': 'Structure of distal interphalangeal joint', 'C0024248': 'Lymphocele', 'C0223084': 'Body of vertebra', 'C0448227': 'Lateral malleolus', 'C0040961': 'Tricuspid Valve Insufficiency', 'C0226365': 'Structure of right internal iliac artery', 'C0344482': 'Hypoplasia of corpus callosum', 'C1299205': 'Vitreous body part', 'C0205207': 'Cystic', 'C0228174': 'Cerebral hemisphere structure (body structure)', 'C3163626': 'Descending thoracic aorta', 'C0002448': 'Ameloblastoma', 'C0085268': 'Bone remodeling', 'C0027086': 'Myoma', 'C1282208': 'Preseptal cellulitis', 'C1265880': 'Focal calcium deposition', 'C0227423': 'Transition zone of anal mucous membrane', 'C0028259': 'Nodule', 'C0870032': 'Skin AND subcutaneous tissue structure', 'C0264515': 'Pneumonia, Necrotizing', 'C0034063': 'Pulmonary Edema', 'C0032961': 'Pregnancy', 'C0439664': 'Necrotizing', 'C0341512': 'Retroperitoneal hematoma', 'C0010316': 'Structure of cribriform plate', 'C0226731': 'Left branch of portal vein', 'C0152282': 'Lateral ventricle, occipital horn', 'C0014008': 'Empty Sella Syndrome', 'C0226383': 'Structure of internal pudendal artery', 'C0742078': 'Mass lesion of brain', 'C0034099': 'Pulp Chamber', 'C1510412': 'Pseudoaneurysm', 'C0175722': 'Clip', 'C1522230': 'Ophthalmic Route of Drug Administration', 'C1704302': 'permanent premolar tooth', 'C4302819': 'Cystic nodule', 'C0519097': 'Left ventricular aneurysm', 'C3266688': 'Cephalometric menton point', 'C0007285': 'Bone structure of carpus', 'C1456859': 'Thoracic region (surface region of back)', 'C0446501': 'Paravertebral region', 'C0447122': 'Structure of vein of trunk', 'C0151699': 'Intracranial Hemorrhage', 'C0018965': 'Hematuria', 'C0578575': 'Dissection of proximal aorta', 'C0264372': 'Bronchiolectasis', 'C2924612': 'Cephalometric point A', 'C0949022': 'Malignant Rectal Neoplasm', 'C0013516': 'Echocardiography', 'C0439667': 'Granulomatous', 'C0344911': 'Left cardiac ventricular dilatation', 'C1455736': 'Acoustic radiations structure', 'C0549113': 'Aortic Root', 'C0006105': 'Brain Abscess', 'C0026724': 'Mucous Membrane', 'C0230337': 'Structure of right axillary region', 'C0934420': 'Cephalometric nasion point', 'C0221430': 'Acquired deformity', 'C0036277': 'Bone structure of scapula', 'C0302350': 'Therapeutic', 'C0524469': 'Structure of left shoulder region', 'C0521619': 'Obstruction of pelviureteric junction', 'C1261079': 'Structure of left cusp of aortic valve', 'C0348072': 'Lateral meniscus structure', 'C0037925': 'Spinal Cord', 'C0022427': 'Structure of jugular vein', 'C0021368': 'Inflammation', 'C0226054': 'Right pulmonary artery', 'C0007785': 'Cerebral Infarction', 'C0005401': 'Intrahepatic bile duct', 'C4551531': 'Serratus ventralis muscle', 'C0015811': 'Femur', 'C0229560': 'Structure of left adrenal gland', 'C0019569': 'Hirschsprung Disease', 'C0230185': 'Epigastrium', 'C0015801': 'Structure of femoral artery', 'C0036091': 'Sialolithiasis', 'C0584640': 'Tibial plateau structure', 'C0025064': 'Mediastinitis', 'C0040421': 'Palatine Tonsil', 'C0017636': 'Glioblastoma', 'C0228157': 'Periventricular white matter', 'C0341676': 'Pyelectasia', 'C0032310': 'Pneumonia, Viral', 'C0230148': 'Anterior mediastinum', 'C0225950': 'Structure of anterior leaflet of mitral valve', 'C0205950': 'Calvaria', 'C0031774': 'Structure of phrenic nerve', 'C0006141': 'Breast', 'C3714787': 'Central Nervous System', 'C0227489': 'Caudate lobe of liver', 'C0005615': 'Birth', 'C0819757': 'Structure of parenchyma of lung', 'C0736268': 'Liver parenchyma', 'C0443258': 'Microvascular', 'C0149601': 'Structure of conus medullaris', 'C0037579': 'Soft Tissue Neoplasms', 'C0149871': 'Deep Vein Thrombosis', 'C0015813': 'Head of femur', 'C0333200': 'Intramural hematoma', 'C0476089': 'Endometrial Carcinoma', 'C0032584': 'polyps', 'C0040426': 'Tooth structure', 'C0549109': 'Plantar fascia structure', 'C0508001': 'Structure of left renal vein', 'C0149573': 'Structure of posterior inferior cerebellar artery', 'C0006444': 'Bursitis', 'C0348073': 'Medial meniscus structure', 'C0817096': 'Chest', 'C0739481': 'Structure of left common iliac vein', 'C0040588': 'Tracheoesophageal Fistula', 'C0227300': 'Duodenal ampulla', 'C0226758': 'Structure of common iliac vein', 'C0225732': 'Structure of base of left lung', 'C0003483': 'Aorta', 'C0039538': 'Teratoma', 'C0162871': 'Aortic Aneurysm, Abdominal', 'C0237962': 'Retroperitoneal abscess', 'C0332886': 'Coarctation', 'C0228919': 'Structure of saphenous nerve', 'C0039979': 'Thoracic Duct', 'C0224418': 'Structure of iliacus muscle', 'C0024005': 'Acquired lordosis deformity of spine due to poor posture', 'C0155773': 'Portal Vein Thrombosis', 'C0226859': 'Superior sagittal sinus', 'C0226862': 'Structure of straight sinus', 'C0584894': 'Rectus femoris muscle structure', 'C0522644': 'Embolization coil', 'C0227617': 'Structure of fatty capsule of kidney', 'C0149854': 'Cerebellar hemorrhage', 'C0080310': 'Left Ventricular Function', 'C0588198': 'Bone structure of proximal tibia', 'C0235833': 'Congenital diaphragmatic hernia', 'C0021935': 'Intussuscipiens', 'C0039508': 'Tendon structure', 'C0227998': 'Structure of left testis', 'C0457138': 'Liver segment', 'C0700185': 'Decalcification', 'C0225949': 'Leaflet of mitral valve', 'C0242216': 'Biliary calculi', 'C0021724': 'Structure of intercostal muscle', 'C0392508': 'Spigelian hernia', 'C0149566': 'Structure of middle cerebral artery', 'C0265885': \"Kommerell's diverticulum\", 'C0017651': 'Globus Pallidus', 'C0029456': 'Osteoporosis', 'C0227456': 'Structure of right parotid gland', 'C0553730': 'Calcium pyrophosphate deposition disease', 'C0230377': 'Both hands', 'C0024688': 'Mandibular Condyle', 'C0225947': 'Structure of anulus fibrosus of mitral orifice', 'C1321506': 'Entire anterior descending branch of left coronary artery', 'C0042559': 'Structure of vertebral artery', 'C0546019': 'Left basal ganglia', 'C0225331': 'Fibrous tissue', 'C0032131': 'Plasmacytoma', 'C0222682': 'Phalanx Unspecified', 'C2937240': 'Upper abdomen structure', 'C0458582': 'Upper lip structure', 'C0223683': 'Structure of head of humerus', 'C0205417': 'Lobular', 'C0017531': 'Angiolymphoid hyperplasia', 'C0449434': 'Femoral component', 'C0223736': 'Bone structure of trapezium', 'C0225957': 'Structure of anulus fibrosus of aorta', 'C0576462': 'Entire proximal phalanx (body structure)', 'C1578559': 'Buccal mucosa', 'C0013922': 'Embolism', 'C0029927': 'Ovarian Cysts', 'C0015385': 'Limb structure', 'C0080178': 'Spina Bifida', 'C0228673': 'Optic nerve sheath', 'C0036036': 'Sacroiliac joint structure', 'C0228193': 'Right frontal lobe structure', 'C0006660': 'Physiologic calcification', 'C0238198': 'Gastrointestinal Stromal Tumors', 'C0222722': 'Structure of posterior condyle of occipital bone', 'C0224444': 'Structure of vastus lateralis muscle', 'C0012621': 'Body Fluid Discharge', 'C0007303': 'Structure of articular cartilage', 'C0226671': 'Structure of superior right pulmonary vein', 'C0021308': 'Infarction', 'C0475224': 'Ischemic', 'C0442856': 'Hypoperfusion', 'C0226727': 'Portal Venous System', 'C0559523': 'Genital tuberculosis', 'C1527303': 'Chronic Airflow Obstruction', 'C0015300': 'Exophthalmos', 'C0577871': 'Mitral valve vegetations', 'C0566602': 'Primary sclerosing cholangitis', 'C0004526': 'Structure of azygous vein', 'C0700374': 'Palate', 'C0029130': 'Optic Nerve', 'C0224362': 'Structure of latissimus dorsi muscle', 'C0021494': 'Intravenous Injections', 'C0224086': 'Belly of skeletal muscle', 'C0576463': 'Entire middle phalanx (body structure)', 'C0003964': 'Peritoneal Fluid (body substance)', 'C0030296': 'pancreatic juice', 'C0202657': 'CT follow-up', 'C0226401': 'Structure of inferior epigastric artery', 'C0022651': 'Structure of calyx', 'C0034074': 'Pulmonary Infarction', 'C0227411': 'Anal canal', 'C0336700': 'Bullet fragment', 'C0006087': 'Structure of brachial artery', 'C0003838': 'Arterial Occlusive Diseases', 'C0227511': 'Structure of gallbladder fossa of liver', 'C0229753': 'Structure of subcarinal lymph node', 'C0149973': 'Intrauterine pregnancy', 'C0448197': 'Structure of lateral condyle of femur', 'C0007286': 'Carpal Tunnel Syndrome', 'C0270712': 'Late cortical cerebellar atrophy', 'C0019066': 'Nontraumatic hemoperitoneum', 'C0392482': 'Common atrium', 'C0230193': 'Anterior abdominal wall', 'C4545645': 'Structure of lymph node of left axilla', 'C0344893': 'Right cardiac ventricular dilatation', 'C0240340': 'Microdontia (disorder)', 'C0227638': 'Structure of perirenal fat', 'C0152335': 'Structure of anterior commissure', 'C0225951': 'Structure of posterior leaflet of mitral valve', 'C0559260': 'Congenital scoliosis', 'C0012813': 'Diverticulitis', 'C0448194': 'Entire distal femur', 'C0010674': 'Cystic Fibrosis', 'C1368898': 'Adult Teratoma', 'C0152281': 'Structure of anterior horn of lateral ventricle', 'C0228232': 'Right temporal lobe structure', 'C0224520': 'Symphysis structure', 'C0497156': 'Lymphadenopathy', 'C0205076': 'Chest wall structure', 'C0180499': 'Drain device', 'C1956089': 'Osteophyte', 'C0238132': 'Bronchopleural Fistula', 'C0580781': 'Structure of apex of left ventricle', 'C0205287': 'Membranous', 'C0032320': 'Pneumoperitoneum', 'C0206734': 'Hemangioblastoma', 'C0333276': 'Acute hemorrhage', 'C0588054': 'Cervical lymph node group', 'C2711204': 'Structure of maxillary incisor tooth', 'C0270629': 'Epidural Abscess', 'C0206062': 'Lung Diseases, Interstitial', 'C0410013': 'Soft tissue lesion', 'C0025299': 'Meningocele', 'C0041960': 'Ureterocele', 'C0030560': 'Parietal Lobe', 'C0025062': 'Mediastinal Emphysema', 'C0085590': 'catheter device', 'C0039729': 'Thalamic structure', 'C0205042': 'Coronary artery', 'C0750610': 'Structure of gastric vein', 'C0015641': 'Fascia', 'C0038293': 'Sternum', 'C0022664': 'Structure of medulla of kidney', 'C0439859': 'Autologous (qualifier value)', 'C0034229': 'Pyramidal Tracts', 'C0505385': 'Level of the fourth thoracic vertebra', 'C0028109': 'Nipples', 'C0005695': 'Bladder Neoplasm', 'C2882221': 'Acute pulmonary embolism', 'C0446417': 'C7 level', 'C0225776': 'Visceral pleura', 'C0162872': 'Aortic Aneurysm, Thoracic', 'C0678222': 'Breast Carcinoma', 'C1692886': 'Arthritis, Bacterial', 'C3266841': 'Deciduous tooth', 'C0439686': 'Cirrhotic', 'C0152344': 'Internal capsule posterior limb structure', 'C0019564': 'Hippocampus (Brain)', 'C0230097': 'Structure of waist (surface region)', 'C0014118': 'Endocarditis', 'C0030786': 'Hip Bone', 'C0001527': 'Adipose tissue', 'C0457113': 'Entire left auricular appendage', 'C0205297': 'Nodular (qualifier value)', 'C0024202': 'Lymph', 'C0222724': 'Clivus', 'C0007461': 'Caudate nucleus structure', 'C0222762': 'Rib Cage', 'C1331262': 'Muscle, Striated', 'C1134719': 'Invasive Ductal Breast Carcinoma', 'C0019065': 'Hemoperitoneum', 'C0030163': 'Artificial cardiac pacemaker', 'C0020887': 'Structure of iliac artery', 'C0030558': 'Parietal bone structure', 'C0038016': 'Spondylolisthesis', 'C0001208': 'Acromioclavicular joint structure', 'C0241982': 'Bulla of lung', 'C0036186': 'Saphenous Vein', 'C0227186': 'Cervical part of esophagus', 'C0149520': 'Acute Cholecystitis', 'C0085808': 'Aneurysm, Mycotic', 'C3887513': 'Avascular necrosis', 'C0235974': 'Pancreatic carcinoma', 'C0230329': 'Right upper extremity', 'C0447106': 'Superficial femoral artery', 'C5244027': 'Pneumonia caused by SARS-CoV-2', 'C0225353': 'Glandular', 'C0030785': 'Pelvic abscess', 'C0034169': 'Structure of putamen', 'C0024876': 'Masseter muscle structure', 'C0021851': 'Large Intestine', 'C0333046': 'Lateral displacement', 'C0022665': 'Kidney Neoplasm', 'C0206702': 'Klatskin Tumor', 'C0152283': 'Lateral ventricle, temporal horn', 'C0340464': 'Premature Cardiac Complex', 'C0040300': 'Body tissue', 'C0028785': 'Occipital lobe', 'C1305610': 'Entire body of third lumbar vertebra', 'C0333034': 'Opaque foreign body', 'C4274828': 'Anterior nasal spine', 'C0699791': 'Stomach Carcinoma', 'C0745283': 'INFECTIOUS PROCESS', 'C0224440': 'Structure of quadriceps femoris muscle', 'C0003864': 'Arthritis', 'C0582256': 'Entire right main branch of portal vein', 'C0582800': 'Condyle of femur', 'C0037926': 'Compression of spinal cord', 'C0225782': 'Structure of right pleural cavity', 'C0877172': 'Hematoma, Epidural, Spinal', 'C0227194': 'Structure of esophageal lumen', 'C0923928': 'Structure of left optic nerve', 'C0030352': 'Structure of papillary muscle', 'C0230425': 'Structure of right thigh', 'C0038593': 'Subtalar joint structure', 'C0333044': 'Posterior displacement', 'C0007764': 'Structure of cerebellopontine angle', 'C0007193': 'Cardiomyopathy, Dilated', 'C0019064': 'Hemopericardium', 'C0155843': 'Retropharyngeal Abscess', 'C0230108': 'Infraclavicular region structure', 'C0042460': 'Vena cava structure', 'C0222756': 'Structure of mandibular canal', 'C0014537': 'Structure of epidural space', 'C0227047': 'Maxillary left first premolar', 'C0267156': 'Emphysematous gastritis', 'C0024090': 'Lumbar Region', 'C0152391': 'Structure of superior cerebellar peduncle', 'C0917804': 'Arteriovenous Malformations, Cerebral', 'C0156273': 'Bladder Diverticulum', 'C0202823': 'Chest CT', 'C0027422': 'Nasal bone structure', 'C4281599': 'Structure of left knee region', 'C0460026': 'Lower jaw region', 'C0038969': 'Surgical sutures', 'C1699633': 'PET/CT scan', 'C0262587': 'Parathyroid Adenoma', 'C0027437': 'Nasolacrimal duct structure', 'C1269894': 'Entire left atrium', 'C0227147': 'Structure of retropharyngeal area', 'C0040456': 'Impacted tooth', 'C0041638': 'Umbilicus (Anatomy)', 'C0205312': 'Papillary', 'C1145670': 'Respiratory Failure', 'C0449900': 'Contrast used', 'C0026367': 'Molar tooth', 'C4317009': 'Diverticular Diseases', 'C0037884': 'Sphenoid bone structure', 'C0003504': 'Aortic Valve Insufficiency', 'C0015808': 'Structure of femoral nerve', 'C0205239': 'Dissecting', 'C0010633': 'Cystadenoma', 'C0226276': 'Structure of internal thoracic artery', 'C0001625': 'Adrenal Glands', 'C0029440': 'Osteoma', 'C0228219': 'Left occipital lobe structure', 'C1283694': 'Intestinal wall structure', 'C0686619': 'Lymph Node Metastasis', 'C0149556': 'Fourth ventricle structure', 'C0496827': 'Malignant neoplasm of dome of bladder', 'C0024623': 'Malignant neoplasm of stomach', 'C0030297': 'Pancreatic Neoplasm', 'C0007301': 'Cartilage', 'C0027149': 'Myxoma', 'C0007570': 'Celiac Disease', 'C0003962': 'Ascites', 'C0225973': 'Pericardial fluid (substance)', 'C0230338': 'Structure of left axillary region', 'C0014653': 'Equilibrium', 'C0003617': 'Appendix', 'C0023801': 'Lipomatosis', 'C1444214': 'Impatent structure', 'C0042458': 'Inferior vena cava structure', 'C1140999': 'Contraction (finding)', 'C0030797': 'Pelvis', 'C0003842': 'Arteries', 'C0410574': 'Synovial Hypertrophy', 'C1123023': 'Skin', 'C0472809': 'Subcapsular hematoma of spleen', 'C0011644': 'Scleroderma', 'C1261287': 'Stenosis', 'C0014742': 'Erythema Multiforme', 'C0584227': 'Ethmoid sinus uncinate process', 'C0238792': 'Bone lesion', 'C0439708': 'Mucous Appearance', 'C0346990': 'Carcinomatosis of peritoneal cavity', 'C0011666': 'Descending aorta', 'C0223908': 'Head of fibula structure', 'C0018801': 'Heart failure', 'C0002638': 'Amniotic Fluid', 'C0243066': 'Atresia', 'C0023078': 'Larynx', 'C0001428': 'Adenoidal structure', 'C1178871': 'Structure of left buttock', 'C0224447': 'Structure of pectineus muscle', 'C0041295': 'Tuberculoma', 'C1563055': 'Interphalangeal joint structure', 'C0001624': 'Adrenal Gland Neoplasms', 'C0224497': 'Articular space', 'C0230321': 'Left iliac region', 'C0699752': 'Review of', 'C0037993': 'Spleen', 'C0748390': 'Retroperitoneal lymphadenopathy', 'C0230284': 'Pelvic wall', 'C0024670': 'Mammillary body structure', 'C0037197': 'Structure of sinus of Valsalva', 'C1253936': 'Hydrarthrosis', 'C0183622': 'Stool seat', 'C0032652': 'Structure of popliteal vein', 'C0010031': 'Cornea', 'C0027432': 'Nasal septum structure', 'C0456269': 'Para-aortic region', 'C0542331': 'Shunt Device', 'C1280202': 'Entire eye', 'C0391978': 'Bone Tissue', 'C0521620': 'Dilatation of ureter', 'C1261045': 'Sacral vertebra structure', 'C0262627': 'Seroma', 'C1882062': 'Neoplastic disease', 'C0002382': 'Alveolar Bone Loss', 'C0042425': 'Ampulla of Vater', 'C0521515': 'Calcific tendinitis', 'C0032227': 'Pleural effusion disorder', 'C0459705': 'Fifth metatarsal structure', 'C0403379': 'Emphysematous pyelonephritis', 'C0333205': 'Mural thrombus', 'C0011923': 'Diagnostic Imaging', 'C0040053': 'Thrombosis', 'C0228208': 'Left parietal lobe structure', 'C0031039': 'Pericardial effusion', 'C0226901': 'Hard Palate', 'C0342419': 'Pituitary mass', 'C0225968': 'Epicardium', 'C0011900': 'Diagnosis', 'C0225377': 'Structure of upper respiratory tract cavity', 'C0020452': 'Hyperemia', 'C0225836': 'Interatrial septum', 'C1281569': 'Entire colon', 'C0225847': 'Right coronary sulcus', 'C0018802': 'Congestive heart failure', 'C0025047': 'Meconium', 'C0012359': 'Pathological Dilatation', 'C0228134': 'Spinal epidural space', 'C0446415': 'C5 level', 'C0042276': 'Vagus nerve structure', 'C0153690': 'Secondary malignant neoplasm of bone', 'C0521174': 'Microcalcification', 'C0446908': 'Mastoid process', 'C0030471': 'Nasal sinus', 'C0227682': 'Structure of right ureter', 'C0460004': 'Head and neck structure', 'C0447105': 'Common Femoral Artery', 'C0448196': 'Structure of medial condyle of femur', 'C0026718': 'Mucormycosis', 'C0079321': 'External Fixation Devices', 'C0333045': 'Superior displacement', 'C2939419': 'Secondary Neoplasm', 'C0226958': 'Root of tongue', 'C0225924': 'Atrioventricular valve', 'C0225810': 'Structure of base of heart', 'C0085515': 'Rotator Cuff', 'C0224422': 'Internal obturator muscle structure', 'C1306838': 'Proliferative arthritis', 'C4048328': 'cervical cancer', 'C0230136': 'Structure of intercostal space', 'C0024764': 'Bone structure of manubrium', 'C0162342': 'Lentiform nucleus structure', 'C0182494': 'Mitral valve prosthesis', 'C0223603': 'Lumbosacral spine', 'C0264112': 'Wedging of vertebra', 'C0223644': 'Structure of anterior superior iliac spine', 'C0022408': 'Arthropathy', 'C0448361': 'Entire rotator muscle', 'C0239137': 'Coxa valga', 'C0225972': 'Pericardial cavity', 'C0222712': 'Jugular foramen', 'C2239273': 'Supraglottis (body part)', 'C0152321': 'Structure of genu of corpus callosum', 'C0227579': 'Head of pancreas', 'C0230360': 'Structure of right forearm', 'C0006271': 'Bronchiolitis', 'C0029408': 'Degenerative polyarthritis', 'C0333311': 'Sequestrum', 'C0025148': 'Medulla Oblongata', 'C0018246': 'Inguinal region', 'C0030283': 'Pancreatic Cyst', 'C0230141': 'Structure of left thoracic cavity', 'C0332241': 'Equivocal', 'C0263772': 'Coxae malum senilis', 'C0031939': 'Pineal gland', 'C0230443': 'Structure of left lower leg', 'C0016536': 'Forearm', 'C4303641': 'Structure of right carotid artery', 'C0206650': 'Fibroadenoma', 'C0333288': 'Dissecting hemorrhage', 'C0008524': 'Structure of choroid plexus', 'C0228233': 'Left temporal lobe structure', 'C0162770': 'Right Ventricular Hypertrophy', 'C2937358': 'Cerebral Hemorrhage', 'C0456973': 'Hilar lymphadenopathy', 'C0040132': 'Thyroid Gland', 'C0222819': 'Bone structure of first rib', 'C0301559': 'Screw', 'C0224868': 'Tendon of supraspinatus muscle', 'C0022650': 'Kidney Calculi', 'C0227613': 'Right kidney', 'C0022907': 'Lacrimal gland structure', 'C0456944': 'Coronary sinus structure', 'C0008913': 'Bone structure of clavicle', 'C0032994': 'Pregnancy, Tubal', 'C0521108': 'Recovering from', 'C0228120': 'Structure of falx cerebri', 'C0578735': 'Axillary lymphadenopathy', 'C0016427': 'Follicular cyst', 'C0181598': 'Left ventricular assist device', 'C0033785': 'Pseudarthrosis', 'C0225477': 'Right sphenoid sinus structure', 'C0032987': 'Ectopic Pregnancy', 'C0041321': 'Tuberculosis, Miliary', 'C0040137': 'Thyroid Nodule', 'C0446409': 'Vertebral level', 'C0005400': 'Bile duct structure', 'C1458136': 'Renal stone substance', 'C0085222': 'Psoas Abscess', 'C0836916': 'Abdominal wall structure', 'C0007874': 'Cervix Uteri', 'C0152240': 'Uterus bilocularis', 'C0227060': 'Mandibular left first premolar tooth', 'C0034196': 'Pylorus', 'C0005937': 'Bone Cysts', 'C0034186': 'Pyelonephritis', 'C0025474': 'Mesentery', 'C2004491': 'Cicatrix', 'C0225975': 'Serous portion of pericardium', 'C0226378': 'Structure of uterine artery', 'C0205271': 'Irregular', 'C0225990': 'Large blood vessel structure', 'C0223185': 'Body of seventh cervical vertebra', 'C0030747': 'Pectoralis Muscles', 'C0025589': 'Metatarsophalangeal joint structure', 'C0011350': 'Dental Enamel', 'C0032044': 'Placenta Accreta', 'C0224424': 'Structure of gluteus maximus muscle', 'C1305773': 'Entire symphysis pubis', 'C0225478': 'Left sphenoid sinus structure', 'C0030274': 'Pancreas', 'C0035237': 'Respiratory System', 'C0448311': 'Extraocular rectus muscle', 'C1284290': 'Entire hilum of left lung', 'C0028863': 'Muscle of orbit', 'C0225435': 'Middle nasal turbinate structure', 'C0229619': 'Hemopoietic tissue', 'C0729890': 'Iliac vessel', 'C0036525': 'Metastatic to', 'C0227188': 'Thoracic esophagus', 'C0162860': 'Structure of inferior mesenteric artery', 'C0994163': 'Cholangiopancreatography, Magnetic Resonance', 'C0024305': 'Lymphoma, Non-Hodgkin', 'C0226398': 'Structure of external iliac artery', 'C0448011': 'Mental Foramen', 'C0178802': 'Pleural cavity', 'C0019149': 'Common Hepatic Duct', 'C0009450': 'Communicable Diseases', 'C0228084': 'Nerve root structure', 'C0400979': 'Obstruction of biliary tree', 'C0223984': 'Entire second metatarsal', 'C0003151': 'Anterior chamber of eye structure'}\n"
          ]
        }
      ],
      "source": [
        "#df1 ------> cui id and concept\n",
        "CUI_mapping_df = pd.read_csv('/media/ssn/d/IMAGE_CLEF_MED/cui_mapping.csv',usecols=[0,1])\n",
        "print(CUI_mapping_df.head(5))\n",
        "print(CUI_mapping_df.shape)\n",
        "CUI_name_mapping={}\n",
        "for index,row in CUI_mapping_df.iterrows():\n",
        "  CUI_name_mapping[row['CUI']]=row['Canonical name']\n",
        "print(CUI_name_mapping)"
      ]
    },
    {
      "cell_type": "code",
      "execution_count": null,
      "metadata": {
        "id": "3gao1kVlVrWW"
      },
      "outputs": [],
      "source": [
        "imgs_title.sort()\n",
        "for title in imgs_title:\n",
        "  if title not in imgname_CUI_mappings.keys():\n",
        "    imgs_title.remove(title)"
      ]
    },
    {
      "cell_type": "code",
      "execution_count": null,
      "metadata": {
        "id": "_O7lP3F1TdAf"
      },
      "outputs": [],
      "source": [
        "img_list=[]\n",
        "for img_title in imgs_title:\n",
        "  img_loaded = tf.keras.utils.load_img('/media/ssn/d/IMAGE_CLEF_MED/train_images/train2/'+img_title)\n",
        "  img_array=img_to_array(img_loaded)\n",
        "  img_resized=cv2.resize(img_array, (32, 32))\n",
        "  img_list.append(img_resized)"
      ]
    },
    {
      "cell_type": "code",
      "execution_count": null,
      "metadata": {
        "colab": {
          "base_uri": "https://localhost:8080/"
        },
        "id": "6nCKfYL-WGbz",
        "outputId": "efa00743-a624-4d25-af3d-970ad4ca353d"
      },
      "outputs": [
        {
          "data": {
            "text/plain": [
              "[['C0040405'], ['C0041618'], ['C0040405'], ['C0002978'], ['C0040405']]"
            ]
          },
          "execution_count": 11,
          "metadata": {},
          "output_type": "execute_result"
        }
      ],
      "source": [
        "CUI_train=[imgname_CUI_mappings[img] for img in imgs_title]\n",
        "CUI_train[:5]"
      ]
    },
    {
      "cell_type": "code",
      "execution_count": null,
      "metadata": {
        "id": "rL1jc03k40HL",
        "outputId": "539bb48e-3b19-4101-f4bd-5d1146b76915"
      },
      "outputs": [
        {
          "name": "stdout",
          "output_type": "stream",
          "text": [
            "[array([[[255., 255., 255.],\n",
            "        [255., 255., 255.],\n",
            "        [255., 255., 255.],\n",
            "        ...,\n",
            "        [255., 255., 255.],\n",
            "        [255., 255., 255.],\n",
            "        [255., 255., 255.]],\n",
            "\n",
            "       [[255., 255., 255.],\n",
            "        [  0.,   0.,   0.],\n",
            "        [  0.,   0.,   0.],\n",
            "        ...,\n",
            "        [  0.,   0.,   0.],\n",
            "        [  0.,   0.,   0.],\n",
            "        [255., 255., 255.]],\n",
            "\n",
            "       [[255., 255., 255.],\n",
            "        [  0.,   0.,   0.],\n",
            "        [  0.,   0.,   0.],\n",
            "        ...,\n",
            "        [  0.,   0.,   0.],\n",
            "        [  0.,   0.,   0.],\n",
            "        [255., 255., 255.]],\n",
            "\n",
            "       ...,\n",
            "\n",
            "       [[255., 255., 255.],\n",
            "        [  0.,   0.,   0.],\n",
            "        [  0.,   0.,   0.],\n",
            "        ...,\n",
            "        [  0.,   0.,   0.],\n",
            "        [  0.,   0.,   0.],\n",
            "        [255., 255., 255.]],\n",
            "\n",
            "       [[255., 255., 255.],\n",
            "        [  0.,   0.,   0.],\n",
            "        [  0.,   0.,   0.],\n",
            "        ...,\n",
            "        [  0.,   0.,   0.],\n",
            "        [  0.,   0.,   0.],\n",
            "        [255., 255., 255.]],\n",
            "\n",
            "       [[255., 255., 255.],\n",
            "        [255., 255., 255.],\n",
            "        [255., 255., 255.],\n",
            "        ...,\n",
            "        [255., 255., 255.],\n",
            "        [255., 255., 255.],\n",
            "        [255., 255., 255.]]], dtype=float32), array([[[  0.890625,   4.921875,   0.      ],\n",
            "        [  2.671875,   3.765625,   9.796875],\n",
            "        [ 48.234375,  79.390625,  73.6875  ],\n",
            "        ...,\n",
            "        [  0.      ,   9.515625,   1.515625],\n",
            "        [  2.109375,   7.109375,   1.109375],\n",
            "        [  1.      ,   6.      ,   2.      ]],\n",
            "\n",
            "       [[  4.21875 ,   4.21875 ,   4.21875 ],\n",
            "        [  0.      ,   0.      ,   0.      ],\n",
            "        [  0.      ,   0.      ,   0.      ],\n",
            "        ...,\n",
            "        [ 44.171875,  45.046875,  47.53125 ],\n",
            "        [ 15.53125 ,  19.84375 ,  18.625   ],\n",
            "        [152.53125 , 167.53125 , 164.53125 ]],\n",
            "\n",
            "       [[254.40625 , 255.      , 254.70312 ],\n",
            "        [  0.      ,   0.      ,   0.      ],\n",
            "        [  0.      ,   0.      ,   0.      ],\n",
            "        ...,\n",
            "        [  0.      ,   0.      ,   0.      ],\n",
            "        [  0.      ,   0.      ,   0.      ],\n",
            "        [  0.      ,   0.      ,   0.      ]],\n",
            "\n",
            "       ...,\n",
            "\n",
            "       [[  0.      ,   0.      ,   0.      ],\n",
            "        [  0.      ,   0.      ,   0.      ],\n",
            "        [  0.      ,   0.      ,   0.      ],\n",
            "        ...,\n",
            "        [  0.      ,   0.      ,   0.      ],\n",
            "        [  0.      ,   0.      ,   0.      ],\n",
            "        [  0.      ,   0.      ,   0.      ]],\n",
            "\n",
            "       [[  0.      ,   0.      ,   0.      ],\n",
            "        [  0.      ,   0.      ,   0.      ],\n",
            "        [  0.      ,   0.      ,   0.      ],\n",
            "        ...,\n",
            "        [  0.      ,   0.      ,   0.      ],\n",
            "        [  0.      ,   0.      ,   0.      ],\n",
            "        [  0.      ,   0.      ,   0.      ]],\n",
            "\n",
            "       [[  4.21875 ,   8.625   ,   3.515625],\n",
            "        [  0.      ,   4.      ,   3.      ],\n",
            "        [  0.      ,   4.515625,   0.      ],\n",
            "        ...,\n",
            "        [  2.515625,   7.515625,   1.515625],\n",
            "        [  2.109375,   8.109375,   0.      ],\n",
            "        [  1.      ,   7.      ,   0.      ]]], dtype=float32), array([[[3.25      , 3.25      , 3.25      ],\n",
            "        [1.171875  , 1.171875  , 1.171875  ],\n",
            "        [1.171875  , 1.171875  , 1.171875  ],\n",
            "        ...,\n",
            "        [1.171875  , 1.171875  , 1.171875  ],\n",
            "        [1.171875  , 1.171875  , 1.171875  ],\n",
            "        [1.8798828 , 1.8798828 , 1.8798828 ]],\n",
            "\n",
            "       [[0.1875    , 0.1875    , 0.1875    ],\n",
            "        [0.        , 0.        , 0.        ],\n",
            "        [0.        , 0.        , 0.        ],\n",
            "        ...,\n",
            "        [0.        , 0.        , 0.        ],\n",
            "        [0.        , 0.        , 0.        ],\n",
            "        [0.        , 0.        , 0.        ]],\n",
            "\n",
            "       [[0.1875    , 0.1875    , 0.1875    ],\n",
            "        [0.046875  , 0.046875  , 0.046875  ],\n",
            "        [0.49658203, 0.49658203, 0.49658203],\n",
            "        ...,\n",
            "        [0.        , 0.        , 0.        ],\n",
            "        [0.        , 0.        , 0.        ],\n",
            "        [0.        , 0.        , 0.        ]],\n",
            "\n",
            "       ...,\n",
            "\n",
            "       [[0.1875    , 0.1875    , 0.1875    ],\n",
            "        [0.        , 0.        , 0.        ],\n",
            "        [0.        , 0.        , 0.        ],\n",
            "        ...,\n",
            "        [0.        , 0.        , 0.        ],\n",
            "        [0.        , 0.        , 0.        ],\n",
            "        [0.        , 0.        , 0.        ]],\n",
            "\n",
            "       [[0.1875    , 0.1875    , 0.1875    ],\n",
            "        [0.        , 0.        , 0.        ],\n",
            "        [0.        , 0.        , 0.        ],\n",
            "        ...,\n",
            "        [0.        , 0.        , 0.        ],\n",
            "        [0.        , 0.        , 0.        ],\n",
            "        [0.        , 0.        , 0.        ]],\n",
            "\n",
            "       [[1.4160156 , 1.4160156 , 1.4160156 ],\n",
            "        [0.78125   , 0.78125   , 0.78125   ],\n",
            "        [0.78125   , 0.78125   , 0.78125   ],\n",
            "        ...,\n",
            "        [0.78125   , 0.78125   , 0.78125   ],\n",
            "        [0.78125   , 0.78125   , 0.78125   ],\n",
            "        [0.4272461 , 0.4272461 , 0.4272461 ]]], dtype=float32), array([[[1., 1., 1.],\n",
            "        [1., 1., 1.],\n",
            "        [1., 1., 1.],\n",
            "        ...,\n",
            "        [1., 1., 1.],\n",
            "        [1., 1., 1.],\n",
            "        [1., 1., 1.]],\n",
            "\n",
            "       [[1., 1., 1.],\n",
            "        [1., 1., 1.],\n",
            "        [1., 1., 1.],\n",
            "        ...,\n",
            "        [1., 1., 1.],\n",
            "        [1., 1., 1.],\n",
            "        [1., 1., 1.]],\n",
            "\n",
            "       [[1., 1., 1.],\n",
            "        [1., 1., 1.],\n",
            "        [1., 1., 1.],\n",
            "        ...,\n",
            "        [1., 1., 1.],\n",
            "        [1., 1., 1.],\n",
            "        [1., 1., 1.]],\n",
            "\n",
            "       ...,\n",
            "\n",
            "       [[1., 1., 1.],\n",
            "        [1., 1., 1.],\n",
            "        [1., 1., 1.],\n",
            "        ...,\n",
            "        [1., 1., 1.],\n",
            "        [1., 1., 1.],\n",
            "        [1., 1., 1.]],\n",
            "\n",
            "       [[1., 1., 1.],\n",
            "        [1., 1., 1.],\n",
            "        [1., 1., 1.],\n",
            "        ...,\n",
            "        [1., 1., 1.],\n",
            "        [1., 1., 1.],\n",
            "        [1., 1., 1.]],\n",
            "\n",
            "       [[1., 1., 1.],\n",
            "        [1., 1., 1.],\n",
            "        [1., 1., 1.],\n",
            "        ...,\n",
            "        [1., 1., 1.],\n",
            "        [1., 1., 1.],\n",
            "        [1., 1., 1.]]], dtype=float32), array([[[236.    , 236.    , 236.    ],\n",
            "        [203.0625, 203.0625, 203.0625],\n",
            "        [203.1875, 203.1875, 203.1875],\n",
            "        ...,\n",
            "        [186.875 , 190.875 , 193.875 ],\n",
            "        [195.9375, 195.9375, 195.3125],\n",
            "        [201.25  , 201.25  , 201.25  ]],\n",
            "\n",
            "       [[174.0625, 173.0625, 178.0625],\n",
            "        [207.5625, 207.5625, 207.5625],\n",
            "        [201.9375, 201.9375, 201.9375],\n",
            "        ...,\n",
            "        [176.0625, 180.0625, 183.0625],\n",
            "        [195.5   , 194.5   , 199.5   ],\n",
            "        [200.5   , 200.5   , 202.5   ]],\n",
            "\n",
            "       [[170.9375, 173.4375, 176.9375],\n",
            "        [206.75  , 206.75  , 206.75  ],\n",
            "        [199.6875, 199.6875, 199.6875],\n",
            "        ...,\n",
            "        [168.125 , 172.125 , 175.125 ],\n",
            "        [195.4375, 195.4375, 195.4375],\n",
            "        [195.625 , 195.625 , 194.75  ]],\n",
            "\n",
            "       ...,\n",
            "\n",
            "       [[ 24.9375,  24.9375,  24.9375],\n",
            "        [172.25  , 175.125 , 177.75  ],\n",
            "        [200.125 , 199.125 , 197.125 ],\n",
            "        ...,\n",
            "        [197.5625, 197.5625, 197.5625],\n",
            "        [167.375 , 171.375 , 174.375 ],\n",
            "        [ 27.5   ,  27.5   ,  29.5   ]],\n",
            "\n",
            "       [[ 25.375 ,  25.375 ,  25.375 ],\n",
            "        [164.5625, 167.4375, 170.0625],\n",
            "        [200.    , 199.    , 197.    ],\n",
            "        ...,\n",
            "        [201.9375, 201.9375, 201.9375],\n",
            "        [166.5625, 170.5625, 173.5625],\n",
            "        [ 49.625 ,  53.625 ,  54.625 ]],\n",
            "\n",
            "       [[ 28.4375,  28.4375,  28.4375],\n",
            "        [166.4375, 169.3125, 171.9375],\n",
            "        [196.25  , 195.25  , 193.25  ],\n",
            "        ...,\n",
            "        [202.3125, 202.3125, 202.3125],\n",
            "        [167.9375, 171.9375, 174.9375],\n",
            "        [154.875 , 154.875 , 155.875 ]]], dtype=float32)]\n",
            "[['C0040405'], ['C0041618'], ['C0040405'], ['C0002978'], ['C0040405']]\n"
          ]
        }
      ],
      "source": [
        "print(img_list[:5])\n",
        "print(CUI_train[:5])"
      ]
    },
    {
      "cell_type": "code",
      "execution_count": null,
      "metadata": {
        "colab": {
          "base_uri": "https://localhost:8080/"
        },
        "id": "2RNFd4GLYSPq",
        "outputId": "773c95d9-fd54-41d1-8bcb-8ba9a7d2b0ef"
      },
      "outputs": [
        {
          "name": "stdout",
          "output_type": "stream",
          "text": [
            "Model: \"sequential\"\n",
            "_________________________________________________________________\n",
            " Layer (type)                Output Shape              Param #   \n",
            "=================================================================\n",
            " conv2d (Conv2D)             (None, 32, 32, 16)        448       \n",
            "                                                                 \n",
            " batch_normalization (Batch  (None, 32, 32, 16)        64        \n",
            " Normalization)                                                  \n",
            "                                                                 \n",
            " max_pooling2d (MaxPooling2  (None, 16, 16, 16)        0         \n",
            " D)                                                              \n",
            "                                                                 \n",
            " dropout (Dropout)           (None, 16, 16, 16)        0         \n",
            "                                                                 \n",
            " conv2d_1 (Conv2D)           (None, 16, 16, 32)        4640      \n",
            "                                                                 \n",
            " batch_normalization_1 (Bat  (None, 16, 16, 32)        128       \n",
            " chNormalization)                                                \n",
            "                                                                 \n",
            " max_pooling2d_1 (MaxPoolin  (None, 8, 8, 32)          0         \n",
            " g2D)                                                            \n",
            "                                                                 \n",
            " dropout_1 (Dropout)         (None, 8, 8, 32)          0         \n",
            "                                                                 \n",
            " conv2d_2 (Conv2D)           (None, 8, 8, 64)          18496     \n",
            "                                                                 \n",
            " batch_normalization_2 (Bat  (None, 8, 8, 64)          256       \n",
            " chNormalization)                                                \n",
            "                                                                 \n",
            " max_pooling2d_2 (MaxPoolin  (None, 4, 4, 64)          0         \n",
            " g2D)                                                            \n",
            "                                                                 \n",
            " dropout_2 (Dropout)         (None, 4, 4, 64)          0         \n",
            "                                                                 \n",
            " conv2d_3 (Conv2D)           (None, 4, 4, 128)         73856     \n",
            "                                                                 \n",
            " batch_normalization_3 (Bat  (None, 4, 4, 128)         512       \n",
            " chNormalization)                                                \n",
            "                                                                 \n",
            " max_pooling2d_3 (MaxPoolin  (None, 2, 2, 128)         0         \n",
            " g2D)                                                            \n",
            "                                                                 \n",
            " dropout_3 (Dropout)         (None, 2, 2, 128)         0         \n",
            "                                                                 \n",
            " flatten (Flatten)           (None, 512)               0         \n",
            "                                                                 \n",
            " dense (Dense)               (None, 64)                32832     \n",
            "                                                                 \n",
            " batch_normalization_4 (Bat  (None, 64)                256       \n",
            " chNormalization)                                                \n",
            "                                                                 \n",
            " dropout_4 (Dropout)         (None, 64)                0         \n",
            "                                                                 \n",
            " dense_1 (Dense)             (None, 128)               8320      \n"
          ]
        },
        {
          "name": "stderr",
          "output_type": "stream",
          "text": [
            "2024-05-11 09:38:53.279667: I tensorflow/core/common_runtime/gpu/gpu_device.cc:1639] Created device /job:localhost/replica:0/task:0/device:GPU:0 with 9270 MB memory:  -> device: 0, name: NVIDIA GeForce RTX 2080 Ti, pci bus id: 0000:17:00.0, compute capability: 7.5\n"
          ]
        },
        {
          "name": "stdout",
          "output_type": "stream",
          "text": [
            "                                                                 \n",
            " batch_normalization_5 (Bat  (None, 128)               512       \n",
            " chNormalization)                                                \n",
            "                                                                 \n",
            " dropout_5 (Dropout)         (None, 128)               0         \n",
            "                                                                 \n",
            " dense_2 (Dense)             (None, 19)                2451      \n",
            "                                                                 \n",
            "=================================================================\n",
            "Total params: 142771 (557.70 KB)\n",
            "Trainable params: 141907 (554.32 KB)\n",
            "Non-trainable params: 864 (3.38 KB)\n",
            "_________________________________________________________________\n"
          ]
        }
      ],
      "source": [
        "model = Sequential()\n",
        "model.add(Conv2D(16, (3,3), activation='relu', padding='same', input_shape=img_list[0].shape))\n",
        "model.add(BatchNormalization())\n",
        "model.add(MaxPool2D(2,2))\n",
        "model.add(Dropout(0.3))\n",
        "\n",
        "model.add(Conv2D(32, (3,3), activation='relu', padding='same'))\n",
        "model.add(BatchNormalization())25\n",
        "model.add(MaxPool2D(2,2))\n",
        "model.add(Dropout(0.3))\n",
        "\n",
        "model.add(Conv2D(64, (3,3), activation='relu', padding='same'))\n",
        "model.add(BatchNormalization())\n",
        "model.add(MaxPool2D(2,2))\n",
        "model.add(Dropout(0.4))\n",
        "\n",
        "model.add(Conv2D(128, (3,3), activation='relu', padding='same'))\n",
        "model.add(BatchNormalization())\n",
        "model.add(MaxPool2D(2,2))\n",
        "model.add(Dropout(0.5))\n",
        "\n",
        "model.add(Flatten())\n",
        "\n",
        "model.add(Dense(64, activation='relu'))\n",
        "model.add(BatchNormalization())\n",
        "model.add(Dropout(0.3))\n",
        "\n",
        "model.add(Dense(128, activation='relu'))\n",
        "model.add(BatchNormalization())\n",
        "model.add(Dropout(0.3))\n",
        "model.add(Dense(19, activation='sigmoid'))\n",
        "\n",
        "model.summary()\n"
      ]
    },
    {
      "cell_type": "code",
      "execution_count": null,
      "metadata": {
        "id": "xKoHm7CW40HM",
        "outputId": "a56125d7-55ee-4bfc-f4c6-4396dc25f1b9"
      },
      "outputs": [
        {
          "name": "stdout",
          "output_type": "stream",
          "text": [
            "(60163, 32, 32, 3)\n"
          ]
        }
      ],
      "source": [
        "train_array=np.array(img_list)\n",
        "# y_train_array=np.array(y_train)\n",
        "print(train_array.shape)"
      ]
    },
    {
      "cell_type": "code",
      "execution_count": null,
      "metadata": {
        "id": "SFd8Qd5w40HM",
        "outputId": "fac0d5ac-d277-457d-e08f-4eaf10426164"
      },
      "outputs": [
        {
          "name": "stdout",
          "output_type": "stream",
          "text": [
            "Shape of encoded labels: (60163, 19)\n"
          ]
        }
      ],
      "source": [
        "from sklearn.preprocessing import MultiLabelBinarizer\n",
        "\n",
        "# Assuming y_train is a list of lists containing multiple labels for each sample\n",
        "# Example: y_train = [['class1', 'class2'], ['class2', 'class3'], ...]\n",
        "mlb = MultiLabelBinarizer()\n",
        "\n",
        "# Fit and transform the labels\n",
        "train_encoded = mlb.fit_transform(CUI_train)\n",
        "\n",
        "# Check the shape of the encoded labels\n",
        "print(\"Shape of encoded labels:\", train_encoded.shape)\n"
      ]
    },
    {
      "cell_type": "code",
      "execution_count": null,
      "metadata": {
        "id": "hsIjXuhb40HM"
      },
      "outputs": [],
      "source": [
        "tf.config.run_functions_eagerly(True)"
      ]
    },
    {
      "cell_type": "code",
      "execution_count": null,
      "metadata": {
        "colab": {
          "base_uri": "https://localhost:8080/"
        },
        "id": "MtJsTnquZhp8",
        "outputId": "48226e8d-7db7-4332-f1fd-3391dab81b04"
      },
      "outputs": [
        {
          "name": "stderr",
          "output_type": "stream",
          "text": [
            "2024-05-11 09:38:54.727293: W tensorflow/tsl/framework/cpu_allocator_impl.cc:83] Allocation of 739282944 exceeds 10% of free system memory.\n",
            "2024-05-11 09:38:55.342148: W tensorflow/tsl/framework/cpu_allocator_impl.cc:83] Allocation of 739282944 exceeds 10% of free system memory.\n"
          ]
        },
        {
          "name": "stdout",
          "output_type": "stream",
          "text": [
            "Epoch 1/20\n"
          ]
        },
        {
          "name": "stderr",
          "output_type": "stream",
          "text": [
            "2024-05-11 09:38:58.458730: I tensorflow/compiler/xla/stream_executor/cuda/cuda_dnn.cc:432] Loaded cuDNN version 8902\n",
            "2024-05-11 09:39:00.698710: E tensorflow/compiler/xla/stream_executor/gpu/asm_compiler.cc:114] *** WARNING *** You are using ptxas 9.1.108, which is older than 11.1. ptxas before 11.1 is known to miscompile XLA code, leading to incorrect results or invalid-address errors.\n",
            "\n",
            "2024-05-11 09:39:00.704641: W tensorflow/compiler/xla/stream_executor/gpu/asm_compiler.cc:231] Falling back to the CUDA driver for PTX compilation; ptxas does not support CC 7.5\n",
            "2024-05-11 09:39:00.704702: W tensorflow/compiler/xla/stream_executor/gpu/asm_compiler.cc:234] Used ptxas at ptxas\n",
            "2024-05-11 09:39:00.704861: W tensorflow/compiler/xla/stream_executor/gpu/redzone_allocator.cc:318] UNIMPLEMENTED: ptxas ptxas too old. Falling back to the driver to compile.\n",
            "Relying on driver to perform ptx compilation. \n",
            "Modify $PATH to customize ptxas location.\n",
            "This message will be only logged once.\n"
          ]
        },
        {
          "name": "stdout",
          "output_type": "stream",
          "text": [
            "1881/1881 [==============================] - 107s 53ms/step - loss: 0.1889 - accuracy: 0.4462\n",
            "Epoch 2/20\n",
            "1881/1881 [==============================] - 99s 53ms/step - loss: 0.1161 - accuracy: 0.5581\n",
            "Epoch 3/20\n",
            "1881/1881 [==============================] - 103s 55ms/step - loss: 0.1070 - accuracy: 0.5886\n",
            "Epoch 4/20\n",
            "1881/1881 [==============================] - 100s 53ms/step - loss: 0.1015 - accuracy: 0.6035\n",
            "Epoch 5/20\n",
            "1881/1881 [==============================] - 98s 52ms/step - loss: 0.0976 - accuracy: 0.6125\n",
            "Epoch 6/20\n",
            "1881/1881 [==============================] - 103s 55ms/step - loss: 0.0945 - accuracy: 0.6241\n",
            "Epoch 7/20\n",
            "1881/1881 [==============================] - 103s 55ms/step - loss: 0.0925 - accuracy: 0.6244\n",
            "Epoch 8/20\n",
            "1881/1881 [==============================] - 99s 53ms/step - loss: 0.0911 - accuracy: 0.6287\n",
            "Epoch 9/20\n",
            "1881/1881 [==============================] - 98s 52ms/step - loss: 0.0885 - accuracy: 0.6373\n",
            "Epoch 10/20\n",
            "1881/1881 [==============================] - 101s 54ms/step - loss: 0.0877 - accuracy: 0.6375\n",
            "Epoch 11/20\n",
            "1881/1881 [==============================] - 98s 52ms/step - loss: 0.0867 - accuracy: 0.6383\n",
            "Epoch 12/20\n",
            "1881/1881 [==============================] - 97s 52ms/step - loss: 0.0857 - accuracy: 0.6406\n",
            "Epoch 13/20\n",
            "1881/1881 [==============================] - 102s 54ms/step - loss: 0.0845 - accuracy: 0.6471\n",
            "Epoch 14/20\n",
            "1881/1881 [==============================] - 102s 54ms/step - loss: 0.0838 - accuracy: 0.6444\n",
            "Epoch 15/20\n",
            "1881/1881 [==============================] - 102s 54ms/step - loss: 0.0832 - accuracy: 0.6496\n",
            "Epoch 16/20\n",
            "1881/1881 [==============================] - 103s 55ms/step - loss: 0.0823 - accuracy: 0.6521\n",
            "Epoch 17/20\n",
            "1881/1881 [==============================] - 104s 55ms/step - loss: 0.0818 - accuracy: 0.6516\n",
            "Epoch 18/20\n",
            "1881/1881 [==============================] - 103s 55ms/step - loss: 0.0809 - accuracy: 0.6522\n",
            "Epoch 19/20\n",
            "1881/1881 [==============================] - 103s 55ms/step - loss: 0.0810 - accuracy: 0.6517\n",
            "Epoch 20/20\n",
            "1881/1881 [==============================] - 103s 55ms/step - loss: 0.0798 - accuracy: 0.6543\n"
          ]
        }
      ],
      "source": [
        "model.compile(optimizer='rmsprop', loss = 'binary_crossentropy', metrics=['accuracy'])\n",
        "es_callback = keras.callbacks.EarlyStopping (monitor= 'val_loss', patience=3)\n",
        "history = model.fit(train_array, train_encoded, epochs=20)"
      ]
    },
    {
      "cell_type": "code",
      "execution_count": null,
      "metadata": {
        "id": "TrOQTDe040HN"
      },
      "outputs": [],
      "source": [
        "imgs_title_test = []\n",
        "imgs_title_test.extend(list(os.listdir('/media/ssn/d/IMAGE_CLEF_MED/test_images/test')))"
      ]
    },
    {
      "cell_type": "code",
      "execution_count": null,
      "metadata": {
        "id": "Zx5ACIgx40HN"
      },
      "outputs": [],
      "source": [
        "img_list_test=[]\n",
        "for img_title in imgs_title_test:\n",
        "    img_loaded = tf.keras.utils.load_img('/media/ssn/d/IMAGE_CLEF_MED/test_images/test/'+img_title)\n",
        "    img_array=img_to_array(img_loaded)\n",
        "    img_resized=cv2.resize(img_array, (32, 32))\n",
        "    img_list_test.append(img_resized)"
      ]
    },
    {
      "cell_type": "code",
      "execution_count": null,
      "metadata": {
        "id": "dGLFLTV140HN",
        "outputId": "68a109a7-e7d9-41ac-d942-1442309338d4"
      },
      "outputs": [
        {
          "name": "stdout",
          "output_type": "stream",
          "text": [
            "<class 'numpy.ndarray'>\n"
          ]
        }
      ],
      "source": [
        "img_list_test=img_list_test[0]\n",
        "print(type(img_list_test))"
      ]
    },
    {
      "cell_type": "code",
      "execution_count": null,
      "metadata": {
        "colab": {
          "base_uri": "https://localhost:8080/"
        },
        "id": "thWY6egGcEWr",
        "outputId": "8f7b7806-b364-4320-ece0-4b48e58f0db9"
      },
      "outputs": [
        {
          "name": "stdout",
          "output_type": "stream",
          "text": [
            "312/312 [==============================] - 3s 10ms/step\n",
            "19\n"
          ]
        }
      ],
      "source": [
        "y_pred=model.predict(np.array(img_list_test))\n",
        "print(len(y_pred[1]))"
      ]
    },
    {
      "cell_type": "code",
      "execution_count": null,
      "metadata": {
        "id": "IsaS-AtE40HO"
      },
      "outputs": [],
      "source": [
        "#df -----> image id and cui id\n",
        "concepts_df_test = pd.read_csv('/media/ssn/d/IMAGE_CLEF_MED/test_concepts.csv',usecols=[0,1])\n",
        "print(concepts_df_test.head(5))\n",
        "print(concepts_df_test.shape)\n",
        "imgname_CUI_mappings_test={}\n",
        "for index,row in concepts_df_test.iterrows():\n",
        "  imgname_CUI_mappings_test[row['ID']+'.jpg']=str(row['CUIs']).split(';')\n",
        "print(imgname_CUI_mappings_test['ROCOv2_2023_test_008996.jpg'])\n",
        "\n"
      ]
    },
    {
      "cell_type": "code",
      "execution_count": null,
      "metadata": {
        "id": "AmvjVxDv40HO",
        "outputId": "36d4ab09-fea9-46b4-8689-8de479742f4b"
      },
      "outputs": [
        {
          "data": {
            "text/plain": [
              "[['C0002978', 'C0205097', 'C1261287', 'C0034052', 'C0226032', 'C0027051'],\n",
              " ['C0024485', 'C0235946', 'C0007799', 'C0012359'],\n",
              " ['C0002978', 'C1947917'],\n",
              " ['C0040405', 'C0038257'],\n",
              " ['C1306645', 'C1140618', 'C1999039']]"
            ]
          },
          "execution_count": 52,
          "metadata": {},
          "output_type": "execute_result"
        }
      ],
      "source": [
        "CUI_test=[imgname_CUI_mappings_test[img] for img in imgs_title_test]\n",
        "CUI_test[:5]"
      ]
    },
    {
      "cell_type": "code",
      "execution_count": null,
      "metadata": {
        "colab": {
          "base_uri": "https://localhost:8080/"
        },
        "id": "n_MnSIQScihz",
        "outputId": "cd564c80-80e5-4e1f-b715-355085c6a0e0"
      },
      "outputs": [
        {
          "name": "stdout",
          "output_type": "stream",
          "text": [
            "Accuracy: 0.5604693140794224\n"
          ]
        }
      ],
      "source": [
        "from sklearn.metrics import accuracy_score\n",
        "\n",
        "# Assuming y_test is a list of lists containing multiple labels for each sample\n",
        "# Example: y_test = [['class1', 'class2'], ['class2', 'class3'], ...]\n",
        "\n",
        "# Encode y_test using the same MultiLabelBinarizer used for y_train\n",
        "y_test_encoded = mlb.transform(CUI_test)\n",
        "\n",
        "# Assuming you have computed y_pred, which is the model's predictions\n",
        "# Example: y_pred = model.predict(x_test_array)\n",
        "\n",
        "# Round y_pred to obtain binary predictions\n",
        "y_pred_binary = (y_pred > 0.5).astype(int)\n",
        "#print(y_pred_binary)\n",
        "# Calculate accuracy\n",
        "accuracy = accuracy_score(y_test_encoded, y_pred_binary)\n",
        "\n",
        "print(\"Accuracy:\", accuracy)\n"
      ]
    },
    {
      "cell_type": "code",
      "execution_count": null,
      "metadata": {
        "colab": {
          "base_uri": "https://localhost:8080/"
        },
        "id": "KPhJbJM4zulQ",
        "outputId": "7c68e001-482a-4b4c-d5a7-bbfe8cf3f3b9"
      },
      "outputs": [
        {
          "name": "stdout",
          "output_type": "stream",
          "text": [
            "(9972, 19)\n",
            "(9972, 19)\n"
          ]
        }
      ],
      "source": [
        "print(y_test_encoded.shape)\n",
        "print(y_pred_binary.shape)"
      ]
    },
    {
      "cell_type": "code",
      "execution_count": null,
      "metadata": {
        "id": "yc_p1Q_ccwvN"
      },
      "outputs": [],
      "source": [
        "# Convert encoded y_test back to original labels\n",
        "y_test_original = mlb.inverse_transform(y_test_encoded)\n",
        "\n",
        "# Convert encoded y_pred_binary back to original labels\n",
        "y_pred_original = mlb.inverse_transform(y_pred_binary)\n"
      ]
    },
    {
      "cell_type": "code",
      "execution_count": null,
      "metadata": {
        "id": "Euv0z7pr40HQ",
        "outputId": "98aaca9b-bca1-490d-8273-ed230e890cc2"
      },
      "outputs": [
        {
          "ename": "",
          "evalue": "",
          "output_type": "error",
          "traceback": [
            "\u001b[1;31mThe Kernel crashed while executing code in the the current cell or a previous cell. Please review the code in the cell(s) to identify a possible cause of the failure. Click <a href='https://aka.ms/vscodeJupyterKernelCrash'>here</a> for more info. View Jupyter <a href='command:jupyter.viewOutput'>log</a> for further details."
          ]
        }
      ],
      "source": [
        "model.save('/media/ssn/d/IMAGE_CLEF_MED/task1Model.h5')"
      ]
    }
  ],
  "metadata": {
    "accelerator": "GPU",
    "colab": {
      "gpuType": "T4",
      "provenance": []
    },
    "kernelspec": {
      "display_name": "Python 3",
      "language": "python",
      "name": "python3"
    },
    "language_info": {
      "codemirror_mode": {
        "name": "ipython",
        "version": 3
      },
      "file_extension": ".py",
      "mimetype": "text/x-python",
      "name": "python",
      "nbconvert_exporter": "python",
      "pygments_lexer": "ipython3",
      "version": "3.8.17"
    }
  },
  "nbformat": 4,
  "nbformat_minor": 0
}